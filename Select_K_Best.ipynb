{
  "nbformat": 4,
  "nbformat_minor": 0,
  "metadata": {
    "colab": {
      "name": "Select K Best.ipynb",
      "provenance": [],
      "collapsed_sections": [],
      "authorship_tag": "ABX9TyP903DzRJrcllC+3khdZwll",
      "include_colab_link": true
    },
    "kernelspec": {
      "name": "python3",
      "display_name": "Python 3"
    },
    "language_info": {
      "name": "python"
    }
  },
  "cells": [
    {
      "cell_type": "markdown",
      "metadata": {
        "id": "view-in-github",
        "colab_type": "text"
      },
      "source": [
        "<a href=\"https://colab.research.google.com/github/Thasneem-vazim/Depression-detection-30-features-available-dataset/blob/main/Select_K_Best.ipynb\" target=\"_parent\"><img src=\"https://colab.research.google.com/assets/colab-badge.svg\" alt=\"Open In Colab\"/></a>"
      ]
    },
    {
      "cell_type": "code",
      "execution_count": 1,
      "metadata": {
        "id": "Hp3gjynefyoi"
      },
      "outputs": [],
      "source": [
        "import numpy as np\n",
        "import pandas as pd\n",
        "import matplotlib.pyplot as plt\n",
        "import seaborn as sns\n",
        "from sklearn.model_selection import train_test_split\n",
        "from sklearn.linear_model import LogisticRegression\n",
        "from sklearn import metrics\n",
        "#%matplotlib inline\n",
        "import warnings\n",
        "warnings.filterwarnings('ignore')\n",
        "from sklearn.tree import DecisionTreeClassifier\n",
        "\n",
        "pd.set_option('display.max_rows', None)"
      ]
    },
    {
      "cell_type": "code",
      "source": [
        "depressionDataset = pd.read_csv(\"/content/depressionlevelFinalShortName2.csv\")\n",
        "X = depressionDataset[['AGERNG','GENDER','EDU','PROF','MARSTS','RESDPL','LIVWTH','ENVSAT','POSSAT','FINSTR','DEBT','PHYEX','SMOKE','DRINK','ILLNESS','PREMED','EATDIS','AVGSLP','INSOM','TSSN','WRKPRE','ANXI','DEPRI','ABUSED','CHEAT','THREAT','SUICIDE','INFER','CONFLICT','LOST']]\n",
        "y=depressionDataset[['DEPRESSED']]"
      ],
      "metadata": {
        "id": "_6y9aE6jgCU8"
      },
      "execution_count": 2,
      "outputs": []
    },
    {
      "cell_type": "code",
      "source": [
        "X_train,X_test,y_train,y_test=train_test_split(X,y,test_size=0.2,random_state=0)"
      ],
      "metadata": {
        "id": "q4TJl_3j91xF"
      },
      "execution_count": 3,
      "outputs": []
    },
    {
      "cell_type": "code",
      "execution_count": 4,
      "metadata": {
        "id": "rM_nfArJ2f4B"
      },
      "outputs": [],
      "source": [
        "from sklearn.preprocessing import LabelEncoder\n",
        "### label encode the categorical values and convert them to numbers\n",
        "le = LabelEncoder()\n",
        "le.fit(X_train['AGERNG'].astype(str))\n",
        "X_train['AGERNG'] = le.transform(X_train['AGERNG'].astype(str))\n",
        "X_test['AGERNG'] = le.transform(X_test['AGERNG'].astype(str))\n",
        "\n",
        "le = LabelEncoder()\n",
        "le.fit(X_train['GENDER'].astype(str))\n",
        "X_train['GENDER'] = le.transform(X_train['GENDER'].astype(str))\n",
        "X_test['GENDER'] = le.transform(X_test['GENDER'].astype(str))\n",
        "\n",
        "le = LabelEncoder()\n",
        "le.fit(X_train['EDU'].astype(str))\n",
        "X_train['EDU'] = le.transform(X_train['EDU'].astype(str))\n",
        "X_test['EDU'] = le.transform(X_test['EDU'].astype(str))\n",
        "\n",
        "\n",
        "le = LabelEncoder()\n",
        "le.fit(X_train['PROF'].astype(str))\n",
        "X_train['PROF'] = le.transform(X_train['PROF'].astype(str))\n",
        "X_test['PROF'] = le.transform(X_test['PROF'].astype(str))\n",
        "\n",
        "\n",
        "le = LabelEncoder()\n",
        "le.fit(X_train['MARSTS'].astype(str))\n",
        "X_train['MARSTS'] = le.transform(X_train['MARSTS'].astype(str))\n",
        "X_test['MARSTS'] = le.transform(X_test['MARSTS'].astype(str))\n",
        "\n",
        "\n",
        "le = LabelEncoder()\n",
        "le.fit(X_train['RESDPL'].astype(str))\n",
        "X_train['RESDPL'] = le.transform(X_train['RESDPL'].astype(str))\n",
        "X_test['RESDPL'] = le.transform(X_test['RESDPL'].astype(str))\n",
        "\n",
        "\n",
        "le = LabelEncoder()\n",
        "le.fit(X_train['LIVWTH'].astype(str))\n",
        "X_train['LIVWTH'] = le.transform(X_train['LIVWTH'].astype(str))\n",
        "X_test['LIVWTH'] = le.transform(X_test['LIVWTH'].astype(str))\n",
        "\n",
        "\n",
        "le = LabelEncoder()\n",
        "le.fit(X_train['ENVSAT'].astype(str))\n",
        "X_train['ENVSAT'] = le.transform(X_train['ENVSAT'].astype(str))\n",
        "X_test['ENVSAT'] = le.transform(X_test['ENVSAT'].astype(str))\n",
        "\n",
        "\n",
        "le = LabelEncoder()\n",
        "le.fit(X_train['POSSAT'].astype(str))\n",
        "X_train['POSSAT'] = le.transform(X_train['POSSAT'].astype(str))\n",
        "X_test['POSSAT'] = le.transform(X_test['POSSAT'].astype(str))\n",
        "\n",
        "\n",
        "le = LabelEncoder()\n",
        "le.fit(X_train['FINSTR'].astype(str))\n",
        "X_train['FINSTR'] = le.transform(X_train['FINSTR'].astype(str))\n",
        "X_test['FINSTR'] = le.transform(X_test['FINSTR'].astype(str))\n",
        "\n",
        "\n",
        "le = LabelEncoder()\n",
        "le.fit(X_train['DEBT'].astype(str))\n",
        "X_train['DEBT'] = le.transform(X_train['DEBT'].astype(str))\n",
        "X_test['DEBT'] = le.transform(X_test['DEBT'].astype(str))\n",
        "\n",
        "\n",
        "le = LabelEncoder()\n",
        "le.fit(X_train['PHYEX'].astype(str))\n",
        "X_train['PHYEX'] = le.transform(X_train['PHYEX'].astype(str))\n",
        "X_test['PHYEX'] = le.transform(X_test['PHYEX'].astype(str))\n",
        "\n",
        "\n",
        "\n",
        "le = LabelEncoder()\n",
        "le.fit(X_train['SMOKE'].astype(str))\n",
        "X_train['SMOKE'] = le.transform(X_train['SMOKE'].astype(str))\n",
        "X_test['SMOKE'] = le.transform(X_test['SMOKE'].astype(str))\n",
        "\n",
        "\n",
        "le = LabelEncoder()\n",
        "le.fit(X_train['DRINK'].astype(str))\n",
        "X_train['DRINK'] = le.transform(X_train['DRINK'].astype(str))\n",
        "X_test['DRINK'] = le.transform(X_test['DRINK'].astype(str))\n",
        "\n",
        "\n",
        "le = LabelEncoder()\n",
        "le.fit(X_train['ILLNESS'].astype(str))\n",
        "X_train['ILLNESS'] = le.transform(X_train['ILLNESS'].astype(str))\n",
        "X_test['ILLNESS'] = le.transform(X_test['ILLNESS'].astype(str))\n",
        "\n",
        "\n",
        "\n",
        "le = LabelEncoder()\n",
        "le.fit(X_train['PREMED'].astype(str))\n",
        "X_train['PREMED'] = le.transform(X_train['PREMED'].astype(str))\n",
        "X_test['PREMED'] = le.transform(X_test['PREMED'].astype(str))\n",
        "\n",
        "\n",
        "le = LabelEncoder()\n",
        "le.fit(X_train['EATDIS'].astype(str))\n",
        "X_train['EATDIS'] = le.transform(X_train['EATDIS'].astype(str))\n",
        "X_test['EATDIS'] = le.transform(X_test['EATDIS'].astype(str))\n",
        "\n",
        "\n",
        "le = LabelEncoder()\n",
        "le.fit(X_train['AVGSLP'].astype(str))\n",
        "X_train['AVGSLP'] = le.transform(X_train['AVGSLP'].astype(str))\n",
        "X_test['AVGSLP'] = le.transform(X_test['AVGSLP'].astype(str))\n",
        "\n",
        "\n",
        "\n",
        "le = LabelEncoder()\n",
        "le.fit(X_train['INSOM'].astype(str))\n",
        "X_train['INSOM'] = le.transform(X_train['INSOM'].astype(str))\n",
        "X_test['INSOM'] = le.transform(X_test['INSOM'].astype(str))\n",
        "\n",
        "\n",
        "\n",
        "le = LabelEncoder()\n",
        "le.fit(X_train['TSSN'].astype(str))\n",
        "X_train['TSSN'] = le.transform(X_train['TSSN'].astype(str))\n",
        "X_test['TSSN'] = le.transform(X_test['TSSN'].astype(str))\n",
        "\n",
        "\n",
        "\n",
        "le = LabelEncoder()\n",
        "le.fit(X_train['WRKPRE'].astype(str))\n",
        "X_train['WRKPRE'] = le.transform(X_train['WRKPRE'].astype(str))\n",
        "X_test['WRKPRE'] = le.transform(X_test['WRKPRE'].astype(str))\n",
        "\n",
        "\n",
        "\n",
        "le = LabelEncoder()\n",
        "le.fit(X_train['ANXI'].astype(str))\n",
        "X_train['ANXI'] = le.transform(X_train['ANXI'].astype(str))\n",
        "X_test['ANXI'] = le.transform(X_test['ANXI'].astype(str))\n",
        "\n",
        "\n",
        "\n",
        "le = LabelEncoder()\n",
        "le.fit(X_train['DEPRI'].astype(str))\n",
        "X_train['DEPRI'] = le.transform(X_train['DEPRI'].astype(str))\n",
        "X_test['DEPRI'] = le.transform(X_test['DEPRI'].astype(str))\n",
        "\n",
        "\n",
        "\n",
        "le = LabelEncoder()\n",
        "le.fit(X_train['ABUSED'].astype(str))\n",
        "X_train['ABUSED'] = le.transform(X_train['ABUSED'].astype(str))\n",
        "X_test['ABUSED'] = le.transform(X_test['ABUSED'].astype(str))\n",
        "\n",
        "\n",
        "\n",
        "le = LabelEncoder()\n",
        "le.fit(X_train['CHEAT'].astype(str))\n",
        "X_train['CHEAT'] = le.transform(X_train['CHEAT'].astype(str))\n",
        "X_test['CHEAT'] = le.transform(X_test['CHEAT'].astype(str))\n",
        "\n",
        "\n",
        "le = LabelEncoder()\n",
        "le.fit(X_train['THREAT'].astype(str))\n",
        "X_train['THREAT'] = le.transform(X_train['THREAT'].astype(str))\n",
        "X_test['THREAT'] = le.transform(X_test['THREAT'].astype(str))\n",
        "\n",
        "\n",
        "le = LabelEncoder()\n",
        "le.fit(X_train['SUICIDE'].astype(str))\n",
        "X_train['SUICIDE'] = le.transform(X_train['SUICIDE'].astype(str))\n",
        "X_test['SUICIDE'] = le.transform(X_test['SUICIDE'].astype(str))\n",
        "\n",
        "le = LabelEncoder()\n",
        "le.fit(X_train['INFER'].astype(str))\n",
        "X_train['INFER'] = le.transform(X_train['INFER'].astype(str))\n",
        "X_test['INFER'] = le.transform(X_test['INFER'].astype(str))\n",
        "\n",
        "\n",
        "le = LabelEncoder()\n",
        "le.fit(X_train['CONFLICT'].astype(str))\n",
        "X_train['CONFLICT'] = le.transform(X_train['CONFLICT'].astype(str))\n",
        "X_test['CONFLICT'] = le.transform(X_test['CONFLICT'].astype(str))\n",
        "\n",
        "\n",
        "le = LabelEncoder()\n",
        "le.fit(X_train['LOST'].astype(str))\n",
        "X_train['LOST'] = le.transform(X_train['LOST'].astype(str))\n",
        "X_test['LOST'] = le.transform(X_test['LOST'].astype(str))"
      ]
    },
    {
      "cell_type": "code",
      "source": [
        "import pandas as pd\n",
        "import numpy as np\n",
        "from sklearn.feature_selection import SelectKBest\n",
        "from sklearn.feature_selection import chi2,f_classif\n",
        "\n",
        "#apply SelectKBest class to extract top 15 best features\n",
        "bestfeatures = SelectKBest(score_func=chi2, k=15)\n",
        "fit = bestfeatures.fit(X_train,y_train)\n",
        "dfscores = pd.DataFrame(fit.scores_)\n",
        "dfcolumns = pd.DataFrame(X_train.columns)\n",
        "#concat two dataframes for better visualization\n",
        "featureScores = pd.concat([dfcolumns,dfscores],axis=1)\n",
        "featureScores.columns = ['Specs','Score']  #naming the dataframe columns\n",
        "print(featureScores.nlargest(15,'Score'))  #print 15 best features"
      ],
      "metadata": {
        "colab": {
          "base_uri": "https://localhost:8080/"
        },
        "id": "ALF_Mg6PgRjk",
        "outputId": "248a4508-7c29-47c7-f398-b3b489206be1"
      },
      "execution_count": 5,
      "outputs": [
        {
          "output_type": "stream",
          "name": "stdout",
          "text": [
            "       Specs      Score\n",
            "22     DEPRI  58.178372\n",
            "27     INFER  50.043766\n",
            "8     POSSAT  41.684222\n",
            "21      ANXI  34.119978\n",
            "23    ABUSED  33.908240\n",
            "24     CHEAT  31.777425\n",
            "28  CONFLICT  29.332199\n",
            "9     FINSTR  18.929115\n",
            "26   SUICIDE  18.907547\n",
            "7     ENVSAT  15.637394\n",
            "18     INSOM  15.558339\n",
            "25    THREAT  15.541737\n",
            "29      LOST  13.248058\n",
            "10      DEBT   9.736075\n",
            "16    EATDIS   8.289909\n"
          ]
        }
      ]
    },
    {
      "cell_type": "code",
      "source": [
        "X_trainSelectedFeature=pd.DataFrame()\n",
        "X_trainSelectedFeature['LOST']=X_train['LOST']\n",
        "X_trainSelectedFeature['DEBT']=X_train['DEBT']\n",
        "\n",
        "X_trainSelectedFeature['POSSAT']=X_train['POSSAT']\n",
        "X_trainSelectedFeature['EATDIS']=X_train['EATDIS']\n",
        "X_trainSelectedFeature['INSOM']=X_train['INSOM']\n",
        "X_trainSelectedFeature['ENVSAT']=X_train['ENVSAT']\n",
        "X_trainSelectedFeature['ANXI']=X_train['ANXI']\n",
        "X_trainSelectedFeature['DEPRI']=X_train['DEPRI']\n",
        "X_trainSelectedFeature['ABUSED']=X_train['ABUSED']\n",
        "X_trainSelectedFeature['CHEAT']=X_train['CHEAT']\n",
        "X_trainSelectedFeature['THREAT']=X_train['THREAT']\n",
        "X_trainSelectedFeature['SUICIDE']=X_train['SUICIDE']\n",
        "X_trainSelectedFeature['INFER']=X_train['INFER']\n",
        "X_trainSelectedFeature['CONFLICT']=X_train['CONFLICT']\n",
        "X_trainSelectedFeature['FINSTR']=X_train['FINSTR']"
      ],
      "metadata": {
        "id": "tlQxzCoiidaH"
      },
      "execution_count": 6,
      "outputs": []
    },
    {
      "cell_type": "code",
      "source": [
        "X_trainSelectedFeature.shape"
      ],
      "metadata": {
        "colab": {
          "base_uri": "https://localhost:8080/"
        },
        "id": "m1AxqR7disSV",
        "outputId": "876d80ec-840f-436b-d901-396572383658"
      },
      "execution_count": null,
      "outputs": [
        {
          "output_type": "execute_result",
          "data": {
            "text/plain": [
              "(483, 15)"
            ]
          },
          "metadata": {},
          "execution_count": 8
        }
      ]
    },
    {
      "cell_type": "code",
      "source": [
        "from imblearn.over_sampling import SMOTE\n",
        "smote=SMOTE('minority',random_state=0)\n",
        "X_trainSelectedFeatureAfterSMOTE,y_train=smote.fit_resample(X_trainSelectedFeature, y_train)"
      ],
      "metadata": {
        "id": "1ln7I-yfheQs"
      },
      "execution_count": 7,
      "outputs": []
    },
    {
      "cell_type": "code",
      "source": [
        "X_testSelectedFeature=pd.DataFrame()\n",
        "\n",
        "X_testSelectedFeature['LOST']=X_test['LOST']\n",
        "X_testSelectedFeature['DEBT']=X_test['DEBT']\n",
        "X_testSelectedFeature['POSSAT']=X_test['POSSAT']\n",
        "X_testSelectedFeature['EATDIS']=X_test['EATDIS']\n",
        "X_testSelectedFeature['INSOM']=X_test['INSOM']\n",
        "X_testSelectedFeature['ENVSAT']=X_test['ENVSAT']\n",
        "X_testSelectedFeature['ANXI']=X_test['ANXI']\n",
        "X_testSelectedFeature['DEPRI']=X_test['DEPRI']\n",
        "X_testSelectedFeature['ABUSED']=X_test['ABUSED']\n",
        "X_testSelectedFeature['CHEAT']=X_test['CHEAT']\n",
        "X_testSelectedFeature['THREAT']=X_test['THREAT']\n",
        "X_testSelectedFeature['SUICIDE']=X_test['SUICIDE']\n",
        "X_testSelectedFeature['INFER']=X_test['INFER']\n",
        "X_testSelectedFeature['CONFLICT']=X_test['CONFLICT']\n",
        "X_testSelectedFeature['FINSTR']=X_test['FINSTR']\n"
      ],
      "metadata": {
        "id": "VyO28JSGkJVb"
      },
      "execution_count": 8,
      "outputs": []
    },
    {
      "cell_type": "code",
      "source": [
        "X_testSelectedFeature.shape"
      ],
      "metadata": {
        "colab": {
          "base_uri": "https://localhost:8080/"
        },
        "id": "Q-GgMr0VBlNT",
        "outputId": "68677d5b-6bfa-494c-b861-03d318276a03"
      },
      "execution_count": null,
      "outputs": [
        {
          "output_type": "execute_result",
          "data": {
            "text/plain": [
              "(121, 15)"
            ]
          },
          "metadata": {},
          "execution_count": 11
        }
      ]
    },
    {
      "cell_type": "code",
      "source": [
        "from sklearn.neighbors import KNeighborsClassifier\n",
        "KNNClassification = KNeighborsClassifier(n_neighbors=7)\n",
        "KNNClassification.fit(X_trainSelectedFeatureAfterSMOTE,y_train)\n",
        "y_predictionKNN=KNNClassification.predict(X_testSelectedFeature)\n"
      ],
      "metadata": {
        "id": "93aMxLB_hjBn"
      },
      "execution_count": null,
      "outputs": []
    },
    {
      "cell_type": "code",
      "source": [
        "from sklearn.metrics import classification_report,confusion_matrix\n",
        "y_predict_test=KNNClassification.predict(X_testSelectedFeature)\n",
        "cm1=confusion_matrix(y_test,y_predict_test)\n",
        "import seaborn as sns\n",
        "sns.heatmap(cm1,annot=True)\n",
        "print(classification_report(y_test,y_predict_test))\n"
      ],
      "metadata": {
        "id": "LDSHMO5YkWxA",
        "colab": {
          "base_uri": "https://localhost:8080/",
          "height": 421
        },
        "outputId": "c4d90ff5-6463-465a-931b-004be09ae913"
      },
      "execution_count": null,
      "outputs": [
        {
          "output_type": "stream",
          "name": "stdout",
          "text": [
            "              precision    recall  f1-score   support\n",
            "\n",
            "           0       0.74      0.89      0.81        47\n",
            "           1       0.92      0.80      0.86        74\n",
            "\n",
            "    accuracy                           0.83       121\n",
            "   macro avg       0.83      0.85      0.83       121\n",
            "weighted avg       0.85      0.83      0.84       121\n",
            "\n"
          ]
        },
        {
          "output_type": "display_data",
          "data": {
            "text/plain": [
              "<Figure size 432x288 with 2 Axes>"
            ],
            "image/png": "[encoded data removed]"
          },
          "metadata": {
            "needs_background": "light"
          }
        }
      ]
    },
    {
      "cell_type": "code",
      "source": [
        "y_predictionKNN_proba=KNNClassification.predict_proba(X_testSelectedFeature)[:,1]\n",
        "AUCKNN=metrics.roc_auc_score(y_test,y_predictionKNN_proba)\n",
        "print(\"AUC KNN: \",AUCKNN)\n",
        "fprKNN, tprKNN, thresholds = metrics.roc_curve(y_test,y_predictionKNN_proba)\n",
        "\n",
        "plt.plot(fprKNN,tprKNN,label=\"KNN ( area = \"+str(AUCKNN)+\" )\")\n",
        "plt.xlabel('False Positive Rate')\n",
        "plt.ylabel('True Positive Rate')\n",
        "plt.legend(loc=4)\n",
        "plt.show()"
      ],
      "metadata": {
        "id": "cv9uP8CqkwvR",
        "colab": {
          "base_uri": "https://localhost:8080/",
          "height": 296
        },
        "outputId": "9dfdd139-db51-40e6-89c7-84e8ba4cb87a"
      },
      "execution_count": null,
      "outputs": [
        {
          "output_type": "stream",
          "name": "stdout",
          "text": [
            "AUC KNN:  0.921794134560092\n"
          ]
        },
        {
          "output_type": "display_data",
          "data": {
            "text/plain": [
              "<Figure size 432x288 with 1 Axes>"
            ],
            "image/png": "[encoded data removed]"
          },
          "metadata": {
            "needs_background": "light"
          }
        }
      ]
    },
    {
      "cell_type": "code",
      "source": [
        "prediction=KNNClassification.predict(X_testSelectedFeature)\n",
        "print('Accuracy = ', metrics.accuracy_score(y_test, prediction)*100)"
      ],
      "metadata": {
        "id": "vUQvgis4AKMc",
        "colab": {
          "base_uri": "https://localhost:8080/"
        },
        "outputId": "1d85bfab-4c7c-4888-cfa1-2045982d59b9"
      },
      "execution_count": null,
      "outputs": [
        {
          "output_type": "stream",
          "name": "stdout",
          "text": [
            "Accuracy =  83.47107438016529\n"
          ]
        }
      ]
    },
    {
      "cell_type": "code",
      "source": [
        "from sklearn.ensemble import AdaBoostClassifier\n",
        "ADABoostClassification=AdaBoostClassifier()\n",
        "ADABoostClassification.fit(X_trainSelectedFeatureAfterSMOTE,y_train)"
      ],
      "metadata": {
        "id": "GYJ-4AQmkw9C",
        "colab": {
          "base_uri": "https://localhost:8080/"
        },
        "outputId": "4548e66d-7efc-497c-fe6e-5bf5d2571a11"
      },
      "execution_count": null,
      "outputs": [
        {
          "output_type": "execute_result",
          "data": {
            "text/plain": [
              "AdaBoostClassifier()"
            ]
          },
          "metadata": {},
          "execution_count": 16
        }
      ]
    },
    {
      "cell_type": "code",
      "source": [
        "y_predictionADABoost=ADABoostClassification.predict(X_testSelectedFeature)"
      ],
      "metadata": {
        "id": "agI6CmGBk_Ir"
      },
      "execution_count": null,
      "outputs": []
    },
    {
      "cell_type": "code",
      "source": [
        "from sklearn.metrics import classification_report,confusion_matrix\n",
        "y_predict_test=ADABoostClassification.predict(X_testSelectedFeature)\n",
        "cm1=confusion_matrix(y_test,y_predict_test)\n",
        "import seaborn as sns\n",
        "sns.heatmap(cm1,annot=True)\n",
        "print(classification_report(y_test,y_predict_test))\n"
      ],
      "metadata": {
        "id": "snFr5AnxlEz-",
        "colab": {
          "base_uri": "https://localhost:8080/",
          "height": 421
        },
        "outputId": "a08c3208-25c8-42f4-c9eb-bd5704e1005c"
      },
      "execution_count": null,
      "outputs": [
        {
          "output_type": "stream",
          "name": "stdout",
          "text": [
            "              precision    recall  f1-score   support\n",
            "\n",
            "           0       0.87      0.96      0.91        47\n",
            "           1       0.97      0.91      0.94        74\n",
            "\n",
            "    accuracy                           0.93       121\n",
            "   macro avg       0.92      0.93      0.92       121\n",
            "weighted avg       0.93      0.93      0.93       121\n",
            "\n"
          ]
        },
        {
          "output_type": "display_data",
          "data": {
            "text/plain": [
              "<Figure size 432x288 with 2 Axes>"
            ],
            "image/png": "[encoded data removed]"
          },
          "metadata": {
            "needs_background": "light"
          }
        }
      ]
    },
    {
      "cell_type": "code",
      "source": [
        "y_predictionKNN_proba=ADABoostClassification.predict_proba(X_testSelectedFeature)[:,1]\n",
        "AUCKNN=metrics.roc_auc_score(y_test,y_predictionKNN_proba)\n",
        "print(\"AUC : \",AUCKNN)\n",
        "fprAda, tprAda, thresholds = metrics.roc_curve(y_test,y_predictionKNN_proba)\n",
        "\n",
        "plt.plot(fprKNN,tprKNN,label=\"( area = \"+str(AUCKNN)+\" )\")\n",
        "plt.xlabel('False Positive Rate')\n",
        "plt.ylabel('True Positive Rate')\n",
        "plt.legend(loc=4)\n",
        "plt.show()"
      ],
      "metadata": {
        "id": "GC60qrPVlKqq",
        "colab": {
          "base_uri": "https://localhost:8080/",
          "height": 296
        },
        "outputId": "0f5e134a-a591-45d8-e5bf-6300dd1bec07"
      },
      "execution_count": null,
      "outputs": [
        {
          "output_type": "stream",
          "name": "stdout",
          "text": [
            "AUC :  0.9654974123059229\n"
          ]
        },
        {
          "output_type": "display_data",
          "data": {
            "text/plain": [
              "<Figure size 432x288 with 1 Axes>"
            ],
            "image/png": "[encoded data removed]"
          },
          "metadata": {
            "needs_background": "light"
          }
        }
      ]
    },
    {
      "cell_type": "code",
      "source": [
        "prediction=ADABoostClassification.predict(X_testSelectedFeature)\n",
        "print('Accuracy = ', metrics.accuracy_score(y_test, prediction)*100)"
      ],
      "metadata": {
        "id": "l3jJhZzWsrsB",
        "colab": {
          "base_uri": "https://localhost:8080/"
        },
        "outputId": "21660951-af4c-40bb-ab2b-8bdc3d9bba67"
      },
      "execution_count": null,
      "outputs": [
        {
          "output_type": "stream",
          "name": "stdout",
          "text": [
            "Accuracy =  92.56198347107438\n"
          ]
        }
      ]
    },
    {
      "cell_type": "code",
      "source": [
        "from sklearn.ensemble import GradientBoostingClassifier\n",
        "GradeintBoostClassification = GradientBoostingClassifier(loss='deviance',max_features=1,random_state=0,max_leaf_nodes=None)\n",
        "GradeintBoostClassification.fit(X_trainSelectedFeatureAfterSMOTE,y_train)\n",
        "y_predictionGradient=GradeintBoostClassification.predict(X_testSelectedFeature)"
      ],
      "metadata": {
        "id": "dpKxb7xrlXPN"
      },
      "execution_count": null,
      "outputs": []
    },
    {
      "cell_type": "code",
      "source": [
        "from sklearn.metrics import classification_report,confusion_matrix\n",
        "y_predict_test=GradeintBoostClassification.predict(X_testSelectedFeature)\n",
        "cm1=confusion_matrix(y_test,y_predict_test)\n",
        "import seaborn as sns\n",
        "sns.heatmap(cm1,annot=True)\n",
        "print(classification_report(y_test,y_predict_test))"
      ],
      "metadata": {
        "id": "L-KxvCi6lpoz",
        "colab": {
          "base_uri": "https://localhost:8080/",
          "height": 421
        },
        "outputId": "386d90ab-a599-4fb5-e230-adc9a0035339"
      },
      "execution_count": null,
      "outputs": [
        {
          "output_type": "stream",
          "name": "stdout",
          "text": [
            "              precision    recall  f1-score   support\n",
            "\n",
            "           0       0.84      0.91      0.88        47\n",
            "           1       0.94      0.89      0.92        74\n",
            "\n",
            "    accuracy                           0.90       121\n",
            "   macro avg       0.89      0.90      0.90       121\n",
            "weighted avg       0.90      0.90      0.90       121\n",
            "\n"
          ]
        },
        {
          "output_type": "display_data",
          "data": {
            "text/plain": [
              "<Figure size 432x288 with 2 Axes>"
            ],
            "image/png": "[encoded data removed]"
          },
          "metadata": {
            "needs_background": "light"
          }
        }
      ]
    },
    {
      "cell_type": "code",
      "source": [
        "y_predictionKNN_proba=GradeintBoostClassification.predict_proba(X_testSelectedFeature)[:,1]\n",
        "AUCKNN=metrics.roc_auc_score(y_test,y_predictionKNN_proba)\n",
        "print(\"AUC: \",AUCKNN)\n",
        "fprGradientBoost, tprGradientBoost, thresholds = metrics.roc_curve(y_test,y_predictionKNN_proba)\n",
        "\n",
        "plt.plot(fprKNN,tprKNN,label=\"( area = \"+str(AUCKNN)+\" )\")\n",
        "plt.xlabel('False Positive Rate')\n",
        "plt.ylabel('True Positive Rate')\n",
        "plt.legend(loc=4)\n",
        "plt.show()"
      ],
      "metadata": {
        "id": "_iMcih9mlyB6",
        "colab": {
          "base_uri": "https://localhost:8080/",
          "height": 296
        },
        "outputId": "24429239-6147-45c5-a5d3-02ce6098b3c1"
      },
      "execution_count": null,
      "outputs": [
        {
          "output_type": "stream",
          "name": "stdout",
          "text": [
            "AUC:  0.9554341575618172\n"
          ]
        },
        {
          "output_type": "display_data",
          "data": {
            "text/plain": [
              "<Figure size 432x288 with 1 Axes>"
            ],
            "image/png": "[encoded data removed]"
          },
          "metadata": {
            "needs_background": "light"
          }
        }
      ]
    },
    {
      "cell_type": "code",
      "source": [
        "prediction=GradeintBoostClassification.predict(X_testSelectedFeature)\n",
        "print('Accuracy = ', metrics.accuracy_score(y_test, prediction)*100)"
      ],
      "metadata": {
        "id": "YXmHVR2fs5tp",
        "colab": {
          "base_uri": "https://localhost:8080/"
        },
        "outputId": "f48b0738-6121-4fb4-8b43-44a5701e6750"
      },
      "execution_count": null,
      "outputs": [
        {
          "output_type": "stream",
          "name": "stdout",
          "text": [
            "Accuracy =  90.08264462809917\n"
          ]
        }
      ]
    },
    {
      "cell_type": "code",
      "source": [
        "import xgboost as xgb\n",
        "XGBoostClassification=xgb.XGBClassifier(base_score=0.5, booster='gblinear', colsample_bylevel=1,\n",
        "              colsample_bynode=1, colsample_bytree=1, gamma=0,\n",
        "              learning_rate=0.01, max_delta_step=0, max_depth=2,\n",
        "              min_child_weight=1, missing=None, n_estimators=100, n_jobs=1,\n",
        "              nthread=None, objective='binary:logistic', random_state=0,\n",
        "              reg_alpha=0, reg_lambda=1, scale_pos_weight=1, seed=None,\n",
        "              silent=None, subsample=1, verbosity=1)\n",
        "XGBoostClassification.fit(X_trainSelectedFeatureAfterSMOTE,y_train)"
      ],
      "metadata": {
        "id": "Z4rijCi-xkfQ",
        "colab": {
          "base_uri": "https://localhost:8080/"
        },
        "outputId": "bacb0702-4cd6-4b89-ac19-5ae23c0b81af"
      },
      "execution_count": null,
      "outputs": [
        {
          "output_type": "execute_result",
          "data": {
            "text/plain": [
              "XGBClassifier(booster='gblinear', learning_rate=0.01, max_depth=2)"
            ]
          },
          "metadata": {},
          "execution_count": 25
        }
      ]
    },
    {
      "cell_type": "code",
      "source": [
        "from sklearn.metrics import classification_report,confusion_matrix\n",
        "y_predict_test=XGBoostClassification.predict(X_testSelectedFeature)\n",
        "cm1=confusion_matrix(y_test,y_predict_test)\n",
        "import seaborn as sns\n",
        "sns.heatmap(cm1,annot=True)\n",
        "print(classification_report(y_test,y_predict_test))"
      ],
      "metadata": {
        "id": "JOir1A8NOjRg",
        "colab": {
          "base_uri": "https://localhost:8080/",
          "height": 421
        },
        "outputId": "cc90b2c5-4f97-4e03-dc8b-562f3ad4eb20"
      },
      "execution_count": null,
      "outputs": [
        {
          "output_type": "stream",
          "name": "stdout",
          "text": [
            "              precision    recall  f1-score   support\n",
            "\n",
            "           0       0.84      0.81      0.83        47\n",
            "           1       0.88      0.91      0.89        74\n",
            "\n",
            "    accuracy                           0.87       121\n",
            "   macro avg       0.86      0.86      0.86       121\n",
            "weighted avg       0.87      0.87      0.87       121\n",
            "\n"
          ]
        },
        {
          "output_type": "display_data",
          "data": {
            "text/plain": [
              "<Figure size 432x288 with 2 Axes>"
            ],
            "image/png": "[encoded data removed]"
          },
          "metadata": {
            "needs_background": "light"
          }
        }
      ]
    },
    {
      "cell_type": "code",
      "source": [
        "y_predictionKNN_proba=XGBoostClassification.predict_proba(X_testSelectedFeature)[:,1]\n",
        "AUCKNN=metrics.roc_auc_score(y_test,y_predictionKNN_proba)\n",
        "print(\"AUC: \",AUCKNN)\n",
        "fprXgB, tprXgB, thresholds = metrics.roc_curve(y_test,y_predictionKNN_proba)\n",
        "\n",
        "plt.plot(fprKNN,tprKNN,label=\"( area = \"+str(AUCKNN)+\" )\")\n",
        "plt.xlabel('False Positive Rate')\n",
        "plt.ylabel('True Positive Rate')\n",
        "plt.legend(loc=4)\n",
        "plt.show()"
      ],
      "metadata": {
        "id": "QSmthl9pOtbv",
        "colab": {
          "base_uri": "https://localhost:8080/",
          "height": 296
        },
        "outputId": "72ce3b2f-c6c8-46c3-c13c-4b4ffb2c0d7f"
      },
      "execution_count": null,
      "outputs": [
        {
          "output_type": "stream",
          "name": "stdout",
          "text": [
            "AUC:  0.9364577343300748\n"
          ]
        },
        {
          "output_type": "display_data",
          "data": {
            "text/plain": [
              "<Figure size 432x288 with 1 Axes>"
            ],
            "image/png": "[encoded data removed]"
          },
          "metadata": {
            "needs_background": "light"
          }
        }
      ]
    },
    {
      "cell_type": "code",
      "source": [
        "prediction=XGBoostClassification.predict(X_testSelectedFeature)\n",
        "print('Accuracy = ', metrics.accuracy_score(y_test, prediction)*100)"
      ],
      "metadata": {
        "id": "t6oi2h8jtfGw",
        "colab": {
          "base_uri": "https://localhost:8080/"
        },
        "outputId": "cc08bc3d-ae04-4645-b150-c9cfe0bd37fb"
      },
      "execution_count": null,
      "outputs": [
        {
          "output_type": "stream",
          "name": "stdout",
          "text": [
            "Accuracy =  86.77685950413223\n"
          ]
        }
      ]
    },
    {
      "cell_type": "code",
      "source": [
        "from sklearn.ensemble import BaggingClassifier\n",
        "from sklearn.neural_network import MLPClassifier\n",
        "\n",
        "base_cls = MLPClassifier(random_state=0)\n",
        "num_trees = 300\n",
        "seed = 15\n",
        "# bagging classifier\n",
        "bagClassificationMLP = BaggingClassifier(base_estimator=base_cls, n_estimators=num_trees, random_state=0)\n",
        "bagClassificationMLP.fit(X_trainSelectedFeatureAfterSMOTE, y_train)\n",
        "y_predictionBagMLP = bagClassificationMLP.predict(X_testSelectedFeature)\n"
      ],
      "metadata": {
        "id": "iL91oPzSPV4B"
      },
      "execution_count": null,
      "outputs": []
    },
    {
      "cell_type": "code",
      "source": [
        "from sklearn.metrics import classification_report,confusion_matrix\n",
        "y_predict_test=bagClassificationMLP.predict(X_testSelectedFeature)\n",
        "cm1=confusion_matrix(y_test,y_predict_test)\n",
        "import seaborn as sns\n",
        "sns.heatmap(cm1,annot=True)\n",
        "print(classification_report(y_test,y_predict_test))"
      ],
      "metadata": {
        "id": "02F1BQCiPydM",
        "colab": {
          "base_uri": "https://localhost:8080/",
          "height": 421
        },
        "outputId": "51fdc72f-b01e-4a69-a393-919056d77b9f"
      },
      "execution_count": null,
      "outputs": [
        {
          "output_type": "stream",
          "name": "stdout",
          "text": [
            "              precision    recall  f1-score   support\n",
            "\n",
            "           0       0.86      0.91      0.89        47\n",
            "           1       0.94      0.91      0.92        74\n",
            "\n",
            "    accuracy                           0.91       121\n",
            "   macro avg       0.90      0.91      0.91       121\n",
            "weighted avg       0.91      0.91      0.91       121\n",
            "\n"
          ]
        },
        {
          "output_type": "display_data",
          "data": {
            "text/plain": [
              "<Figure size 432x288 with 2 Axes>"
            ],
            "image/png": "[encoded data removed]"
          },
          "metadata": {
            "needs_background": "light"
          }
        }
      ]
    },
    {
      "cell_type": "code",
      "source": [
        "y_predictionKNN_proba=bagClassificationMLP.predict_proba(X_testSelectedFeature)[:,1]\n",
        "AUCKNN=metrics.roc_auc_score(y_test,y_predictionKNN_proba)\n",
        "print(\"AUC: \",AUCKNN)\n",
        "fprBagMLP, tprBagMLP, thresholds = metrics.roc_curve(y_test,y_predictionKNN_proba)\n",
        "\n",
        "plt.plot(fprKNN,tprKNN,label=\"( area = \"+str(AUCKNN)+\" )\")\n",
        "plt.xlabel('False Positive Rate')\n",
        "plt.ylabel('True Positive Rate')\n",
        "plt.legend(loc=4)\n",
        "plt.show()"
      ],
      "metadata": {
        "id": "9L2ro0tEP2qu",
        "colab": {
          "base_uri": "https://localhost:8080/",
          "height": 296
        },
        "outputId": "99dd3074-0d8f-456a-cc4e-00e8b06a32b8"
      },
      "execution_count": null,
      "outputs": [
        {
          "output_type": "stream",
          "name": "stdout",
          "text": [
            "AUC:  0.9580218516388729\n"
          ]
        },
        {
          "output_type": "display_data",
          "data": {
            "text/plain": [
              "<Figure size 432x288 with 1 Axes>"
            ],
            "image/png": "[encoded data removed]"
          },
          "metadata": {
            "needs_background": "light"
          }
        }
      ]
    },
    {
      "cell_type": "code",
      "source": [
        "prediction=bagClassificationMLP.predict(X_testSelectedFeature)\n",
        "print('Accuracy = ', metrics.accuracy_score(y_test, prediction)*100)"
      ],
      "metadata": {
        "id": "CEoHemSDtqgc",
        "colab": {
          "base_uri": "https://localhost:8080/"
        },
        "outputId": "c7da6c24-496b-4e8a-9730-e2175683429d"
      },
      "execution_count": null,
      "outputs": [
        {
          "output_type": "stream",
          "name": "stdout",
          "text": [
            "Accuracy =  90.9090909090909\n"
          ]
        }
      ]
    },
    {
      "cell_type": "code",
      "source": [
        "from sklearn.svm import SVC\n",
        "SVM=SVC()\n",
        "SVM.fit(X_trainSelectedFeatureAfterSMOTE,y_train)\n"
      ],
      "metadata": {
        "id": "ZhtYF6qswzHG",
        "colab": {
          "base_uri": "https://localhost:8080/"
        },
        "outputId": "1e668c98-a13f-41e7-c19e-a808235063a3"
      },
      "execution_count": null,
      "outputs": [
        {
          "output_type": "execute_result",
          "data": {
            "text/plain": [
              "SVC()"
            ]
          },
          "metadata": {},
          "execution_count": 33
        }
      ]
    },
    {
      "cell_type": "code",
      "source": [
        "y_prediction = SVM.predict(X_testSelectedFeature)\n",
        "from sklearn.metrics import classification_report,confusion_matrix\n",
        "cm1=confusion_matrix(y_test,y_prediction)\n",
        "import seaborn as sns\n",
        "sns.heatmap(cm1,annot=True)\n",
        "print(classification_report(y_test,y_prediction))"
      ],
      "metadata": {
        "id": "_vU9zDS4xHou",
        "colab": {
          "base_uri": "https://localhost:8080/",
          "height": 421
        },
        "outputId": "e536fc53-4841-40f8-8b03-4238c93c567b"
      },
      "execution_count": null,
      "outputs": [
        {
          "output_type": "stream",
          "name": "stdout",
          "text": [
            "              precision    recall  f1-score   support\n",
            "\n",
            "           0       0.82      0.89      0.86        47\n",
            "           1       0.93      0.88      0.90        74\n",
            "\n",
            "    accuracy                           0.88       121\n",
            "   macro avg       0.88      0.89      0.88       121\n",
            "weighted avg       0.89      0.88      0.89       121\n",
            "\n"
          ]
        },
        {
          "output_type": "display_data",
          "data": {
            "text/plain": [
              "<Figure size 432x288 with 2 Axes>"
            ],
            "image/png": "[encoded data removed]"
          },
          "metadata": {
            "needs_background": "light"
          }
        }
      ]
    },
    {
      "cell_type": "code",
      "source": [
        "prediction=SVM.predict(X_testSelectedFeature)\n",
        "print('Accuracy = ', metrics.accuracy_score(y_test, prediction)*100)"
      ],
      "metadata": {
        "id": "sVckgRVLr8YX",
        "colab": {
          "base_uri": "https://localhost:8080/"
        },
        "outputId": "e810f8bf-f7e8-4590-f794-0486cfaff657"
      },
      "execution_count": null,
      "outputs": [
        {
          "output_type": "stream",
          "name": "stdout",
          "text": [
            "Accuracy =  88.42975206611571\n"
          ]
        }
      ]
    },
    {
      "cell_type": "code",
      "source": [
        "from sklearn.tree import DecisionTreeClassifier\n",
        "DT=DecisionTreeClassifier()\n",
        "DT=DT.fit(X_trainSelectedFeatureAfterSMOTE,y_train)\n",
        "y4_predict_test=DT.predict(X_testSelectedFeature)\n",
        "cm4=confusion_matrix(y_test,y4_predict_test)\n",
        "sns.heatmap(cm4,annot=True)\n",
        "sns.heatmap(cm1,annot=True)\n",
        "print(classification_report(y_test,y4_predict_test))"
      ],
      "metadata": {
        "id": "TAsXG4neshA0",
        "colab": {
          "base_uri": "https://localhost:8080/",
          "height": 421
        },
        "outputId": "d520e577-cd4a-4304-d665-d052cd60985b"
      },
      "execution_count": null,
      "outputs": [
        {
          "output_type": "stream",
          "name": "stdout",
          "text": [
            "              precision    recall  f1-score   support\n",
            "\n",
            "           0       0.76      0.87      0.81        47\n",
            "           1       0.91      0.82      0.87        74\n",
            "\n",
            "    accuracy                           0.84       121\n",
            "   macro avg       0.83      0.85      0.84       121\n",
            "weighted avg       0.85      0.84      0.84       121\n",
            "\n"
          ]
        },
        {
          "output_type": "display_data",
          "data": {
            "text/plain": [
              "<Figure size 432x288 with 3 Axes>"
            ],
            "image/png": "[encoded data removed]"
          },
          "metadata": {
            "needs_background": "light"
          }
        }
      ]
    },
    {
      "cell_type": "code",
      "source": [
        "y_predictionKNN_proba=DT.predict_proba(X_testSelectedFeature)[:,1]\n",
        "AUCKNN=metrics.roc_auc_score(y_test,y_predictionKNN_proba)\n",
        "print(\"AUC: \",AUCKNN)\n",
        "fprKNN, tprKNN, thresholds = metrics.roc_curve(y_test,y_predictionKNN_proba)\n",
        "\n",
        "plt.plot(fprKNN,tprKNN,label=\"( area = \"+str(AUCKNN)+\" )\")\n",
        "plt.xlabel('False Positive Rate')\n",
        "plt.ylabel('True Positive Rate')\n",
        "plt.legend(loc=4)\n",
        "plt.show()"
      ],
      "metadata": {
        "id": "EZ2ezyr61j2V",
        "colab": {
          "base_uri": "https://localhost:8080/",
          "height": 296
        },
        "outputId": "e2c31e2e-da65-491d-e619-eaa9e8a6d443"
      },
      "execution_count": null,
      "outputs": [
        {
          "output_type": "stream",
          "name": "stdout",
          "text": [
            "AUC:  0.8661587119033928\n"
          ]
        },
        {
          "output_type": "display_data",
          "data": {
            "text/plain": [
              "<Figure size 432x288 with 1 Axes>"
            ],
            "image/png": "[encoded data removed]"
          },
          "metadata": {
            "needs_background": "light"
          }
        }
      ]
    },
    {
      "cell_type": "code",
      "source": [
        "prediction=DT.predict(X_testSelectedFeature)\n",
        "print('Accuracy = ', metrics.accuracy_score(y_test, y4_predict_test)*100)"
      ],
      "metadata": {
        "id": "z6O8-fROtGW6",
        "colab": {
          "base_uri": "https://localhost:8080/"
        },
        "outputId": "db48a3b6-a8e9-410a-8a14-3cc7fcdd7ba6"
      },
      "execution_count": null,
      "outputs": [
        {
          "output_type": "stream",
          "name": "stdout",
          "text": [
            "Accuracy =  84.29752066115702\n"
          ]
        }
      ]
    },
    {
      "cell_type": "code",
      "source": [
        "from sklearn.naive_bayes import BernoulliNB\n",
        "BNBmodel = BernoulliNB()\n",
        "BNBmodel.fit(X_trainSelectedFeatureAfterSMOTE, y_train)"
      ],
      "metadata": {
        "id": "aF0I9PActfeD",
        "colab": {
          "base_uri": "https://localhost:8080/"
        },
        "outputId": "c5045aa5-c145-41a6-c100-f2cedf85781f"
      },
      "execution_count": null,
      "outputs": [
        {
          "output_type": "execute_result",
          "data": {
            "text/plain": [
              "BernoulliNB()"
            ]
          },
          "metadata": {},
          "execution_count": 39
        }
      ]
    },
    {
      "cell_type": "code",
      "source": [
        "y3_predict_test=BNBmodel.predict(X_testSelectedFeature)\n",
        "cm1=confusion_matrix(y_test,y3_predict_test)\n",
        "sns.heatmap(cm1,annot=True)\n",
        "print(classification_report(y_test,y3_predict_test))"
      ],
      "metadata": {
        "id": "Bykj_5fstnGx",
        "colab": {
          "base_uri": "https://localhost:8080/",
          "height": 421
        },
        "outputId": "04a5f6e4-caf7-45b2-f2fb-49798edc1802"
      },
      "execution_count": null,
      "outputs": [
        {
          "output_type": "stream",
          "name": "stdout",
          "text": [
            "              precision    recall  f1-score   support\n",
            "\n",
            "           0       0.80      0.94      0.86        47\n",
            "           1       0.95      0.85      0.90        74\n",
            "\n",
            "    accuracy                           0.88       121\n",
            "   macro avg       0.88      0.89      0.88       121\n",
            "weighted avg       0.89      0.88      0.89       121\n",
            "\n"
          ]
        },
        {
          "output_type": "display_data",
          "data": {
            "text/plain": [
              "<Figure size 432x288 with 2 Axes>"
            ],
            "image/png": "[encoded data removed]"
          },
          "metadata": {
            "needs_background": "light"
          }
        }
      ]
    },
    {
      "cell_type": "code",
      "source": [
        "prediction=BNBmodel.predict(X_testSelectedFeature)\n",
        "print('Accuracy = ', metrics.accuracy_score(y_test, y3_predict_test)*100)"
      ],
      "metadata": {
        "id": "0GYyUTxYt1d1",
        "colab": {
          "base_uri": "https://localhost:8080/"
        },
        "outputId": "c99ff370-b9c9-4fd3-efe8-1bbb23bba980"
      },
      "execution_count": null,
      "outputs": [
        {
          "output_type": "stream",
          "name": "stdout",
          "text": [
            "Accuracy =  88.42975206611571\n"
          ]
        }
      ]
    },
    {
      "cell_type": "code",
      "source": [
        "y_predictionKNN_proba=BNBmodel.predict_proba(X_testSelectedFeature)[:,1]\n",
        "AUCKNN=metrics.roc_auc_score(y_test,y_predictionKNN_proba)\n",
        "print(\"AUC: \",AUCKNN)\n",
        "fprKNN, tprKNN, thresholds = metrics.roc_curve(y_test,y_predictionKNN_proba)\n",
        "\n",
        "plt.plot(fprKNN,tprKNN,label=\"( area = \"+str(AUCKNN)+\" )\")\n",
        "plt.xlabel('False Positive Rate')\n",
        "plt.ylabel('True Positive Rate')\n",
        "plt.legend(loc=4)\n",
        "plt.show()"
      ],
      "metadata": {
        "id": "jLu-2YCD2-Q4",
        "colab": {
          "base_uri": "https://localhost:8080/",
          "height": 296
        },
        "outputId": "fa329731-42a1-4640-90bb-6161ee4c6b1e"
      },
      "execution_count": null,
      "outputs": [
        {
          "output_type": "stream",
          "name": "stdout",
          "text": [
            "AUC:  0.953421506612996\n"
          ]
        },
        {
          "output_type": "display_data",
          "data": {
            "text/plain": [
              "<Figure size 432x288 with 1 Axes>"
            ],
            "image/png": "[encoded data removed]"
          },
          "metadata": {
            "needs_background": "light"
          }
        }
      ]
    },
    {
      "cell_type": "code",
      "source": [
        "from sklearn.naive_bayes import MultinomialNB\n",
        "NB=MultinomialNB()\n",
        "NB.fit(X_trainSelectedFeatureAfterSMOTE,y_train)"
      ],
      "metadata": {
        "id": "dq_l-8Bet-B7",
        "colab": {
          "base_uri": "https://localhost:8080/"
        },
        "outputId": "6ce26b07-8a84-4624-cdec-ae44483c5e77"
      },
      "execution_count": null,
      "outputs": [
        {
          "output_type": "execute_result",
          "data": {
            "text/plain": [
              "MultinomialNB()"
            ]
          },
          "metadata": {},
          "execution_count": 43
        }
      ]
    },
    {
      "cell_type": "code",
      "source": [
        "y2_predict_test=NB.predict(X_testSelectedFeature)\n",
        "cm2=confusion_matrix(y_test,y2_predict_test)\n",
        "sns.heatmap(cm2,annot=True)\n",
        "print(classification_report(y_test,y2_predict_test))"
      ],
      "metadata": {
        "id": "wR7i2a6WuFjA",
        "colab": {
          "base_uri": "https://localhost:8080/",
          "height": 421
        },
        "outputId": "be818cfc-562f-44ec-bf38-e82c6ae1ce03"
      },
      "execution_count": null,
      "outputs": [
        {
          "output_type": "stream",
          "name": "stdout",
          "text": [
            "              precision    recall  f1-score   support\n",
            "\n",
            "           0       0.76      0.89      0.82        47\n",
            "           1       0.92      0.82      0.87        74\n",
            "\n",
            "    accuracy                           0.85       121\n",
            "   macro avg       0.84      0.86      0.85       121\n",
            "weighted avg       0.86      0.85      0.85       121\n",
            "\n"
          ]
        },
        {
          "output_type": "display_data",
          "data": {
            "text/plain": [
              "<Figure size 432x288 with 2 Axes>"
            ],
            "image/png": "[encoded data removed]"
          },
          "metadata": {
            "needs_background": "light"
          }
        }
      ]
    },
    {
      "cell_type": "code",
      "source": [
        "y_predictionKNN_proba=NB.predict_proba(X_testSelectedFeature)[:,1]\n",
        "AUCKNN=metrics.roc_auc_score(y_test,y_predictionKNN_proba)\n",
        "print(\"AUC: \",AUCKNN)\n",
        "fprKNN, tprKNN, thresholds = metrics.roc_curve(y_test,y_predictionKNN_proba)\n",
        "\n",
        "plt.plot(fprKNN,tprKNN,label=\"( area = \"+str(AUCKNN)+\" )\")\n",
        "plt.xlabel('False Positive Rate')\n",
        "plt.ylabel('True Positive Rate')\n",
        "plt.legend(loc=4)\n",
        "plt.show()"
      ],
      "metadata": {
        "id": "1Z9wdo7_37eZ",
        "colab": {
          "base_uri": "https://localhost:8080/",
          "height": 296
        },
        "outputId": "a38e58da-9867-4def-9c21-21f469684a0b"
      },
      "execution_count": null,
      "outputs": [
        {
          "output_type": "stream",
          "name": "stdout",
          "text": [
            "AUC:  0.9376078205865439\n"
          ]
        },
        {
          "output_type": "display_data",
          "data": {
            "text/plain": [
              "<Figure size 432x288 with 1 Axes>"
            ],
            "image/png": "[encoded data removed]"
          },
          "metadata": {
            "needs_background": "light"
          }
        }
      ]
    },
    {
      "cell_type": "code",
      "source": [
        "prediction=NB.predict(X_testSelectedFeature)\n",
        "print('Accuracy = ', metrics.accuracy_score(y_test, y2_predict_test)*100)"
      ],
      "metadata": {
        "id": "2dh7yeNbuTfq",
        "colab": {
          "base_uri": "https://localhost:8080/"
        },
        "outputId": "9f506cb6-febc-499f-bf22-7a9deeea902f"
      },
      "execution_count": null,
      "outputs": [
        {
          "output_type": "stream",
          "name": "stdout",
          "text": [
            "Accuracy =  85.12396694214877\n"
          ]
        }
      ]
    },
    {
      "cell_type": "code",
      "source": [
        "# Import Library\n",
        "import numpy as np \n",
        "import matplotlib.pyplot as plt \n",
        "\n",
        "# Define Data\n",
        "data3 = ['SelectKBest']\n",
        "xvals = [83.47]\n",
        "yvals = [92.5]\n",
        "zvals = [84.29]\n",
        "avals = [88.42]\n",
        "bvals = [85.12]\n",
        "\n",
        "x_axis = np.arange(len(data3))\n",
        "\n",
        "# Multi bar Chart\n",
        "plt.bar(x_axis +0.1, xvals, width=0.07, label = 'KNN')\n",
        "plt.bar(x_axis +0.1*2, yvals, width=0.07, label = 'AdaBoost')\n",
        "plt.bar(x_axis +0.1*3, zvals, width=0.07, label = 'GradientBoost')\n",
        "plt.bar(x_axis +0.1*4, avals, width=0.07, label = 'XGBoost')\n",
        "plt.bar(x_axis +0.1*5, bvals, width=0.07, label = 'Bagging')\n",
        "\n",
        "# Xticks\n",
        "plt.xticks(x_axis,data3)\n",
        "plt.ylabel(\"Accuracy (%)\")\n",
        "plt.xlabel(\"Experiments on classification\")\n",
        "plt.title(\"Comparitive analysis using SelectKBest\")\n",
        "plt.legend()\n",
        "plt.show()"
      ],
      "metadata": {
        "colab": {
          "base_uri": "https://localhost:8080/",
          "height": 278
        },
        "id": "zptjWHbG3o2B",
        "outputId": "5c712bab-9db4-4e69-9e03-e58ddeef2f92"
      },
      "execution_count": null,
      "outputs": [
        {
          "output_type": "display_data",
          "data": {
            "text/plain": [
              "<Figure size 432x288 with 1 Axes>"
            ],
            "image/png": "[encoded data removed]"
          },
          "metadata": {
            "needs_background": "light"
          }
        }
      ]
    },
    {
      "cell_type": "code",
      "source": [
        "plt.figure()\n",
        "\n",
        "#plt.plot(fprRBF,tprRBF,label=\"SVM (AUC: 0.95)\")\n",
        "plt.plot(fprKNN,tprKNN,label=\"KNN (AUC: 0.93)\")\n",
        "#plt.plot(fprDT,tprDT,label=\"DT (AUC: 0.86)\")\n",
        "#plt.plot(fprRF,tprRF,label=\"RF (AUC: 0.90)\")\n",
        "plt.plot(fprAda,tprAda,label=\"AdaBoost (AUC: 0.96)\")\n",
        "#plt.plot(fprMLP,tprMLP,label=\"MLP (AUC: 0.96)\")\n",
        "plt.plot(fprGradientBoost,tprGradientBoost,label=\"GB (AUC: 0.96)\")\n",
        "plt.plot(fprXgB,tprXgB,label=\"XGBoost (AUC: 0.94)\")\n",
        "plt.plot(fprBagMLP,tprBagMLP,label=\"Bagging (AUC: 0.96)\")\n",
        "\n",
        "\n",
        "plt.plot([0, 1], [0, 1], color='navy', linestyle='--')\n",
        "plt.xlabel('False Positive Rate')\n",
        "plt.ylabel('True Positive Rate')\n",
        "plt.legend(loc=4)\n",
        "plt.savefig('K-Best-SMOTE-ROCNew.png',dpi=1000)\n",
        "plt.show()"
      ],
      "metadata": {
        "colab": {
          "base_uri": "https://localhost:8080/",
          "height": 279
        },
        "id": "DER13QCXVfbX",
        "outputId": "49cafaf4-377a-4eac-81db-d813b15e8b36"
      },
      "execution_count": null,
      "outputs": [
        {
          "output_type": "display_data",
          "data": {
            "text/plain": [
              "<Figure size 432x288 with 1 Axes>"
            ],
            "image/png": "[encoded data removed]"
          },
          "metadata": {
            "needs_background": "light"
          }
        }
      ]
    },
    {
      "cell_type": "code",
      "source": [
        "X_train = X_trainSelectedFeatureAfterSMOTE.to_numpy()\n",
        "y_train = y_train.to_numpy().squeeze()\n",
        "X_test  = X_testSelectedFeature.to_numpy()\n"
      ],
      "metadata": {
        "id": "P6lILOX-tlfQ"
      },
      "execution_count": 9,
      "outputs": []
    },
    {
      "cell_type": "code",
      "source": [
        "import numpy  as np\n",
        "import pandas as pd\n",
        "!pip install pytorch-tabnet\n",
        "from pytorch_tabnet.tab_model import TabNetClassifier\n",
        "import torch\n",
        "\n",
        "\n",
        "classifier = TabNetClassifier(optimizer_fn=torch.optim.Adam,\n",
        "                       optimizer_params=dict(lr=1e-2),\n",
        "                       scheduler_params={\"step_size\":2,\"gamma\":0.5},\n",
        "                       scheduler_fn=torch.optim.lr_scheduler.StepLR,\n",
        "                       mask_type='entmax')\n"
      ],
      "metadata": {
        "id": "yCHIh58htqAU",
        "outputId": "a92b6432-feda-457f-94e2-1df2ee3aa019",
        "colab": {
          "base_uri": "https://localhost:8080/"
        }
      },
      "execution_count": 19,
      "outputs": [
        {
          "output_type": "stream",
          "name": "stdout",
          "text": [
            "Looking in indexes: https://pypi.org/simple, https://us-python.pkg.dev/colab-wheels/public/simple/\n",
            "Requirement already satisfied: pytorch-tabnet in /usr/local/lib/python3.7/dist-packages (3.1.1)\n",
            "Requirement already satisfied: torch<2.0,>=1.2 in /usr/local/lib/python3.7/dist-packages (from pytorch-tabnet) (1.11.0+cu113)\n",
            "Requirement already satisfied: scikit_learn>0.21 in /usr/local/lib/python3.7/dist-packages (from pytorch-tabnet) (1.0.2)\n",
            "Requirement already satisfied: numpy<2.0,>=1.17 in /usr/local/lib/python3.7/dist-packages (from pytorch-tabnet) (1.21.6)\n",
            "Requirement already satisfied: tqdm<5.0,>=4.36 in /usr/local/lib/python3.7/dist-packages (from pytorch-tabnet) (4.64.0)\n",
            "Requirement already satisfied: scipy>1.4 in /usr/local/lib/python3.7/dist-packages (from pytorch-tabnet) (1.4.1)\n",
            "Requirement already satisfied: joblib>=0.11 in /usr/local/lib/python3.7/dist-packages (from scikit_learn>0.21->pytorch-tabnet) (1.1.0)\n",
            "Requirement already satisfied: threadpoolctl>=2.0.0 in /usr/local/lib/python3.7/dist-packages (from scikit_learn>0.21->pytorch-tabnet) (3.1.0)\n",
            "Requirement already satisfied: typing-extensions in /usr/local/lib/python3.7/dist-packages (from torch<2.0,>=1.2->pytorch-tabnet) (4.2.0)\n",
            "Device used : cpu\n"
          ]
        }
      ]
    },
    {
      "cell_type": "code",
      "source": [
        "classifier.fit(X_train=X_train, y_train=y_train,\n",
        "               patience=5,max_epochs=500,\n",
        "               eval_metric=['auc'])"
      ],
      "metadata": {
        "id": "YDrybNSctuOX",
        "outputId": "16523683-fea6-4b6f-ac3f-e82bccf71e4f",
        "colab": {
          "base_uri": "https://localhost:8080/"
        }
      },
      "execution_count": 20,
      "outputs": [
        {
          "output_type": "stream",
          "name": "stdout",
          "text": [
            "No early stopping will be performed, last training weights will be used.\n",
            "epoch 0  | loss: 0.79603 |  0:00:00s\n",
            "epoch 1  | loss: 0.65152 |  0:00:00s\n",
            "epoch 2  | loss: 0.60573 |  0:00:00s\n",
            "epoch 3  | loss: 0.51267 |  0:00:00s\n",
            "epoch 4  | loss: 0.47767 |  0:00:00s\n",
            "epoch 5  | loss: 0.45386 |  0:00:00s\n",
            "epoch 6  | loss: 0.43244 |  0:00:00s\n",
            "epoch 7  | loss: 0.39074 |  0:00:00s\n",
            "epoch 8  | loss: 0.38927 |  0:00:00s\n",
            "epoch 9  | loss: 0.36882 |  0:00:00s\n",
            "epoch 10 | loss: 0.35807 |  0:00:00s\n",
            "epoch 11 | loss: 0.32161 |  0:00:00s\n",
            "epoch 12 | loss: 0.3067  |  0:00:00s\n",
            "epoch 13 | loss: 0.30569 |  0:00:01s\n",
            "epoch 14 | loss: 0.27867 |  0:00:01s\n",
            "epoch 15 | loss: 0.26523 |  0:00:01s\n",
            "epoch 16 | loss: 0.28806 |  0:00:01s\n",
            "epoch 17 | loss: 0.24391 |  0:00:01s\n",
            "epoch 18 | loss: 0.23366 |  0:00:01s\n",
            "epoch 19 | loss: 0.23421 |  0:00:01s\n",
            "epoch 20 | loss: 0.2281  |  0:00:01s\n",
            "epoch 21 | loss: 0.21619 |  0:00:01s\n",
            "epoch 22 | loss: 0.20876 |  0:00:01s\n",
            "epoch 23 | loss: 0.2147  |  0:00:01s\n",
            "epoch 24 | loss: 0.21608 |  0:00:01s\n",
            "epoch 25 | loss: 0.19338 |  0:00:01s\n",
            "epoch 26 | loss: 0.1903  |  0:00:01s\n",
            "epoch 27 | loss: 0.17081 |  0:00:01s\n",
            "epoch 28 | loss: 0.17375 |  0:00:01s\n",
            "epoch 29 | loss: 0.16745 |  0:00:01s\n",
            "epoch 30 | loss: 0.20724 |  0:00:01s\n",
            "epoch 31 | loss: 0.18036 |  0:00:01s\n",
            "epoch 32 | loss: 0.17128 |  0:00:01s\n",
            "epoch 33 | loss: 0.18237 |  0:00:01s\n",
            "epoch 34 | loss: 0.18364 |  0:00:01s\n",
            "epoch 35 | loss: 0.17325 |  0:00:02s\n",
            "epoch 36 | loss: 0.15714 |  0:00:02s\n",
            "epoch 37 | loss: 0.15667 |  0:00:02s\n",
            "epoch 38 | loss: 0.14426 |  0:00:02s\n",
            "epoch 39 | loss: 0.15727 |  0:00:02s\n",
            "epoch 40 | loss: 0.17586 |  0:00:02s\n",
            "epoch 41 | loss: 0.15552 |  0:00:02s\n",
            "epoch 42 | loss: 0.15456 |  0:00:02s\n",
            "epoch 43 | loss: 0.13719 |  0:00:02s\n",
            "epoch 44 | loss: 0.14168 |  0:00:02s\n",
            "epoch 45 | loss: 0.13855 |  0:00:02s\n",
            "epoch 46 | loss: 0.15871 |  0:00:02s\n",
            "epoch 47 | loss: 0.14204 |  0:00:02s\n",
            "epoch 48 | loss: 0.14134 |  0:00:02s\n",
            "epoch 49 | loss: 0.13633 |  0:00:02s\n",
            "epoch 50 | loss: 0.14796 |  0:00:02s\n",
            "epoch 51 | loss: 0.13784 |  0:00:02s\n",
            "epoch 52 | loss: 0.13243 |  0:00:02s\n",
            "epoch 53 | loss: 0.13673 |  0:00:02s\n",
            "epoch 54 | loss: 0.13638 |  0:00:02s\n",
            "epoch 55 | loss: 0.12178 |  0:00:02s\n",
            "epoch 56 | loss: 0.13833 |  0:00:02s\n",
            "epoch 57 | loss: 0.11492 |  0:00:02s\n",
            "epoch 58 | loss: 0.12458 |  0:00:02s\n",
            "epoch 59 | loss: 0.12639 |  0:00:02s\n",
            "epoch 60 | loss: 0.12836 |  0:00:03s\n",
            "epoch 61 | loss: 0.11268 |  0:00:03s\n",
            "epoch 62 | loss: 0.11978 |  0:00:03s\n",
            "epoch 63 | loss: 0.11816 |  0:00:03s\n",
            "epoch 64 | loss: 0.1261  |  0:00:03s\n",
            "epoch 65 | loss: 0.14018 |  0:00:03s\n",
            "epoch 66 | loss: 0.11662 |  0:00:03s\n",
            "epoch 67 | loss: 0.12426 |  0:00:03s\n",
            "epoch 68 | loss: 0.11731 |  0:00:03s\n",
            "epoch 69 | loss: 0.11738 |  0:00:03s\n",
            "epoch 70 | loss: 0.12869 |  0:00:03s\n",
            "epoch 71 | loss: 0.13087 |  0:00:03s\n",
            "epoch 72 | loss: 0.11527 |  0:00:03s\n",
            "epoch 73 | loss: 0.11713 |  0:00:03s\n",
            "epoch 74 | loss: 0.11363 |  0:00:03s\n",
            "epoch 75 | loss: 0.11504 |  0:00:03s\n",
            "epoch 76 | loss: 0.11407 |  0:00:03s\n",
            "epoch 77 | loss: 0.11326 |  0:00:03s\n",
            "epoch 78 | loss: 0.10999 |  0:00:03s\n",
            "epoch 79 | loss: 0.11358 |  0:00:03s\n",
            "epoch 80 | loss: 0.11145 |  0:00:03s\n",
            "epoch 81 | loss: 0.10514 |  0:00:03s\n",
            "epoch 82 | loss: 0.10653 |  0:00:03s\n",
            "epoch 83 | loss: 0.12412 |  0:00:03s\n",
            "epoch 84 | loss: 0.11949 |  0:00:03s\n",
            "epoch 85 | loss: 0.1218  |  0:00:03s\n",
            "epoch 86 | loss: 0.1133  |  0:00:04s\n",
            "epoch 87 | loss: 0.10761 |  0:00:04s\n",
            "epoch 88 | loss: 0.09982 |  0:00:04s\n",
            "epoch 89 | loss: 0.11396 |  0:00:04s\n",
            "epoch 90 | loss: 0.11652 |  0:00:04s\n",
            "epoch 91 | loss: 0.10265 |  0:00:04s\n",
            "epoch 92 | loss: 0.10339 |  0:00:04s\n",
            "epoch 93 | loss: 0.10831 |  0:00:04s\n",
            "epoch 94 | loss: 0.10775 |  0:00:04s\n",
            "epoch 95 | loss: 0.11557 |  0:00:04s\n",
            "epoch 96 | loss: 0.11429 |  0:00:04s\n",
            "epoch 97 | loss: 0.10681 |  0:00:04s\n",
            "epoch 98 | loss: 0.10924 |  0:00:04s\n",
            "epoch 99 | loss: 0.10363 |  0:00:04s\n",
            "epoch 100| loss: 0.10479 |  0:00:04s\n",
            "epoch 101| loss: 0.10548 |  0:00:04s\n",
            "epoch 102| loss: 0.1173  |  0:00:04s\n",
            "epoch 103| loss: 0.1143  |  0:00:04s\n",
            "epoch 104| loss: 0.10733 |  0:00:04s\n",
            "epoch 105| loss: 0.09736 |  0:00:04s\n",
            "epoch 106| loss: 0.10698 |  0:00:04s\n",
            "epoch 107| loss: 0.12067 |  0:00:04s\n",
            "epoch 108| loss: 0.1083  |  0:00:04s\n",
            "epoch 109| loss: 0.09862 |  0:00:04s\n",
            "epoch 110| loss: 0.10097 |  0:00:04s\n",
            "epoch 111| loss: 0.10416 |  0:00:04s\n",
            "epoch 112| loss: 0.11162 |  0:00:05s\n",
            "epoch 113| loss: 0.11326 |  0:00:05s\n",
            "epoch 114| loss: 0.10966 |  0:00:05s\n",
            "epoch 115| loss: 0.11451 |  0:00:05s\n",
            "epoch 116| loss: 0.11081 |  0:00:05s\n",
            "epoch 117| loss: 0.11585 |  0:00:05s\n",
            "epoch 118| loss: 0.10431 |  0:00:05s\n",
            "epoch 119| loss: 0.11586 |  0:00:05s\n",
            "epoch 120| loss: 0.10506 |  0:00:05s\n",
            "epoch 121| loss: 0.10763 |  0:00:05s\n",
            "epoch 122| loss: 0.11181 |  0:00:05s\n",
            "epoch 123| loss: 0.10515 |  0:00:05s\n",
            "epoch 124| loss: 0.10057 |  0:00:05s\n",
            "epoch 125| loss: 0.10825 |  0:00:05s\n",
            "epoch 126| loss: 0.10781 |  0:00:05s\n",
            "epoch 127| loss: 0.1079  |  0:00:05s\n",
            "epoch 128| loss: 0.09548 |  0:00:05s\n",
            "epoch 129| loss: 0.10235 |  0:00:05s\n",
            "epoch 130| loss: 0.10164 |  0:00:05s\n",
            "epoch 131| loss: 0.10413 |  0:00:05s\n",
            "epoch 132| loss: 0.10282 |  0:00:05s\n",
            "epoch 133| loss: 0.10699 |  0:00:05s\n",
            "epoch 134| loss: 0.10906 |  0:00:05s\n",
            "epoch 135| loss: 0.10538 |  0:00:05s\n",
            "epoch 136| loss: 0.09953 |  0:00:06s\n",
            "epoch 137| loss: 0.10522 |  0:00:06s\n",
            "epoch 138| loss: 0.10696 |  0:00:06s\n",
            "epoch 139| loss: 0.0996  |  0:00:06s\n",
            "epoch 140| loss: 0.10019 |  0:00:06s\n",
            "epoch 141| loss: 0.11116 |  0:00:06s\n",
            "epoch 142| loss: 0.10307 |  0:00:06s\n",
            "epoch 143| loss: 0.10074 |  0:00:06s\n",
            "epoch 144| loss: 0.10767 |  0:00:06s\n",
            "epoch 145| loss: 0.09547 |  0:00:06s\n",
            "epoch 146| loss: 0.10006 |  0:00:06s\n",
            "epoch 147| loss: 0.09025 |  0:00:06s\n",
            "epoch 148| loss: 0.11023 |  0:00:06s\n",
            "epoch 149| loss: 0.11313 |  0:00:06s\n",
            "epoch 150| loss: 0.10765 |  0:00:06s\n",
            "epoch 151| loss: 0.10484 |  0:00:07s\n",
            "epoch 152| loss: 0.10144 |  0:00:07s\n",
            "epoch 153| loss: 0.0973  |  0:00:07s\n",
            "epoch 154| loss: 0.10403 |  0:00:07s\n",
            "epoch 155| loss: 0.10003 |  0:00:07s\n",
            "epoch 156| loss: 0.09948 |  0:00:07s\n",
            "epoch 157| loss: 0.11461 |  0:00:07s\n",
            "epoch 158| loss: 0.10356 |  0:00:07s\n",
            "epoch 159| loss: 0.09603 |  0:00:07s\n",
            "epoch 160| loss: 0.11575 |  0:00:07s\n",
            "epoch 161| loss: 0.10111 |  0:00:07s\n",
            "epoch 162| loss: 0.09526 |  0:00:07s\n",
            "epoch 163| loss: 0.0969  |  0:00:07s\n",
            "epoch 164| loss: 0.11124 |  0:00:07s\n",
            "epoch 165| loss: 0.0974  |  0:00:08s\n",
            "epoch 166| loss: 0.12084 |  0:00:08s\n",
            "epoch 167| loss: 0.09408 |  0:00:08s\n",
            "epoch 168| loss: 0.10708 |  0:00:08s\n",
            "epoch 169| loss: 0.10841 |  0:00:08s\n",
            "epoch 170| loss: 0.10017 |  0:00:08s\n",
            "epoch 171| loss: 0.11074 |  0:00:08s\n",
            "epoch 172| loss: 0.10527 |  0:00:08s\n",
            "epoch 173| loss: 0.0909  |  0:00:08s\n",
            "epoch 174| loss: 0.0883  |  0:00:08s\n",
            "epoch 175| loss: 0.09583 |  0:00:08s\n",
            "epoch 176| loss: 0.10019 |  0:00:08s\n",
            "epoch 177| loss: 0.09355 |  0:00:08s\n",
            "epoch 178| loss: 0.09324 |  0:00:08s\n",
            "epoch 179| loss: 0.10013 |  0:00:08s\n",
            "epoch 180| loss: 0.09411 |  0:00:09s\n",
            "epoch 181| loss: 0.10072 |  0:00:09s\n",
            "epoch 182| loss: 0.09746 |  0:00:09s\n",
            "epoch 183| loss: 0.09082 |  0:00:09s\n",
            "epoch 184| loss: 0.09405 |  0:00:09s\n",
            "epoch 185| loss: 0.09704 |  0:00:09s\n",
            "epoch 186| loss: 0.10132 |  0:00:09s\n",
            "epoch 187| loss: 0.09473 |  0:00:09s\n",
            "epoch 188| loss: 0.09132 |  0:00:09s\n",
            "epoch 189| loss: 0.09307 |  0:00:09s\n",
            "epoch 190| loss: 0.09472 |  0:00:09s\n",
            "epoch 191| loss: 0.08893 |  0:00:09s\n",
            "epoch 192| loss: 0.09556 |  0:00:09s\n",
            "epoch 193| loss: 0.09932 |  0:00:09s\n",
            "epoch 194| loss: 0.101   |  0:00:10s\n",
            "epoch 195| loss: 0.08988 |  0:00:10s\n",
            "epoch 196| loss: 0.09846 |  0:00:10s\n",
            "epoch 197| loss: 0.09141 |  0:00:10s\n",
            "epoch 198| loss: 0.09364 |  0:00:10s\n",
            "epoch 199| loss: 0.0958  |  0:00:10s\n",
            "epoch 200| loss: 0.09503 |  0:00:10s\n",
            "epoch 201| loss: 0.09299 |  0:00:10s\n",
            "epoch 202| loss: 0.09185 |  0:00:10s\n",
            "epoch 203| loss: 0.09887 |  0:00:10s\n",
            "epoch 204| loss: 0.09825 |  0:00:10s\n",
            "epoch 205| loss: 0.0931  |  0:00:11s\n",
            "epoch 206| loss: 0.0865  |  0:00:11s\n",
            "epoch 207| loss: 0.10002 |  0:00:11s\n",
            "epoch 208| loss: 0.09016 |  0:00:11s\n",
            "epoch 209| loss: 0.10546 |  0:00:11s\n",
            "epoch 210| loss: 0.09671 |  0:00:11s\n",
            "epoch 211| loss: 0.0941  |  0:00:11s\n",
            "epoch 212| loss: 0.10025 |  0:00:11s\n",
            "epoch 213| loss: 0.09364 |  0:00:11s\n",
            "epoch 214| loss: 0.09154 |  0:00:11s\n",
            "epoch 215| loss: 0.10076 |  0:00:11s\n",
            "epoch 216| loss: 0.10825 |  0:00:11s\n",
            "epoch 217| loss: 0.09641 |  0:00:11s\n",
            "epoch 218| loss: 0.09416 |  0:00:11s\n",
            "epoch 219| loss: 0.1029  |  0:00:12s\n",
            "epoch 220| loss: 0.10018 |  0:00:12s\n",
            "epoch 221| loss: 0.09334 |  0:00:12s\n",
            "epoch 222| loss: 0.09372 |  0:00:12s\n",
            "epoch 223| loss: 0.10075 |  0:00:12s\n",
            "epoch 224| loss: 0.09521 |  0:00:12s\n",
            "epoch 225| loss: 0.09979 |  0:00:12s\n",
            "epoch 226| loss: 0.08678 |  0:00:12s\n",
            "epoch 227| loss: 0.0915  |  0:00:12s\n",
            "epoch 228| loss: 0.09063 |  0:00:12s\n",
            "epoch 229| loss: 0.0891  |  0:00:12s\n",
            "epoch 230| loss: 0.0923  |  0:00:13s\n",
            "epoch 231| loss: 0.09434 |  0:00:13s\n",
            "epoch 232| loss: 0.10194 |  0:00:13s\n",
            "epoch 233| loss: 0.0883  |  0:00:13s\n",
            "epoch 234| loss: 0.10434 |  0:00:13s\n",
            "epoch 235| loss: 0.09544 |  0:00:13s\n",
            "epoch 236| loss: 0.08576 |  0:00:13s\n",
            "epoch 237| loss: 0.08598 |  0:00:13s\n",
            "epoch 238| loss: 0.09569 |  0:00:13s\n",
            "epoch 239| loss: 0.10533 |  0:00:13s\n",
            "epoch 240| loss: 0.09104 |  0:00:13s\n",
            "epoch 241| loss: 0.09415 |  0:00:14s\n",
            "epoch 242| loss: 0.08855 |  0:00:14s\n",
            "epoch 243| loss: 0.09011 |  0:00:14s\n",
            "epoch 244| loss: 0.08585 |  0:00:14s\n",
            "epoch 245| loss: 0.09479 |  0:00:14s\n",
            "epoch 246| loss: 0.09618 |  0:00:14s\n",
            "epoch 247| loss: 0.09595 |  0:00:14s\n",
            "epoch 248| loss: 0.10004 |  0:00:14s\n",
            "epoch 249| loss: 0.09872 |  0:00:14s\n",
            "epoch 250| loss: 0.0891  |  0:00:14s\n",
            "epoch 251| loss: 0.09059 |  0:00:14s\n",
            "epoch 252| loss: 0.08882 |  0:00:14s\n",
            "epoch 253| loss: 0.09156 |  0:00:15s\n",
            "epoch 254| loss: 0.089   |  0:00:15s\n",
            "epoch 255| loss: 0.09191 |  0:00:15s\n",
            "epoch 256| loss: 0.08964 |  0:00:15s\n",
            "epoch 257| loss: 0.09102 |  0:00:15s\n",
            "epoch 258| loss: 0.09368 |  0:00:15s\n",
            "epoch 259| loss: 0.09392 |  0:00:15s\n",
            "epoch 260| loss: 0.09518 |  0:00:15s\n",
            "epoch 261| loss: 0.08774 |  0:00:15s\n",
            "epoch 262| loss: 0.09385 |  0:00:15s\n",
            "epoch 263| loss: 0.09652 |  0:00:15s\n",
            "epoch 264| loss: 0.09204 |  0:00:15s\n",
            "epoch 265| loss: 0.09222 |  0:00:15s\n",
            "epoch 266| loss: 0.09507 |  0:00:16s\n",
            "epoch 267| loss: 0.08779 |  0:00:16s\n",
            "epoch 268| loss: 0.0993  |  0:00:16s\n",
            "epoch 269| loss: 0.09532 |  0:00:16s\n",
            "epoch 270| loss: 0.09091 |  0:00:16s\n",
            "epoch 271| loss: 0.10027 |  0:00:16s\n",
            "epoch 272| loss: 0.09351 |  0:00:16s\n",
            "epoch 273| loss: 0.08195 |  0:00:16s\n",
            "epoch 274| loss: 0.092   |  0:00:16s\n",
            "epoch 275| loss: 0.09582 |  0:00:16s\n",
            "epoch 276| loss: 0.09573 |  0:00:16s\n",
            "epoch 277| loss: 0.09233 |  0:00:17s\n",
            "epoch 278| loss: 0.09757 |  0:00:17s\n",
            "epoch 279| loss: 0.09955 |  0:00:17s\n",
            "epoch 280| loss: 0.08803 |  0:00:17s\n",
            "epoch 281| loss: 0.08789 |  0:00:17s\n",
            "epoch 282| loss: 0.10128 |  0:00:17s\n",
            "epoch 283| loss: 0.0894  |  0:00:17s\n",
            "epoch 284| loss: 0.09115 |  0:00:17s\n",
            "epoch 285| loss: 0.09207 |  0:00:17s\n",
            "epoch 286| loss: 0.0893  |  0:00:17s\n",
            "epoch 287| loss: 0.08347 |  0:00:17s\n",
            "epoch 288| loss: 0.0916  |  0:00:17s\n",
            "epoch 289| loss: 0.09478 |  0:00:17s\n",
            "epoch 290| loss: 0.0953  |  0:00:17s\n",
            "epoch 291| loss: 0.08959 |  0:00:18s\n",
            "epoch 292| loss: 0.09633 |  0:00:18s\n",
            "epoch 293| loss: 0.09256 |  0:00:18s\n",
            "epoch 294| loss: 0.09926 |  0:00:18s\n",
            "epoch 295| loss: 0.10189 |  0:00:18s\n",
            "epoch 296| loss: 0.10255 |  0:00:18s\n",
            "epoch 297| loss: 0.09454 |  0:00:18s\n",
            "epoch 298| loss: 0.09359 |  0:00:18s\n",
            "epoch 299| loss: 0.09044 |  0:00:18s\n",
            "epoch 300| loss: 0.093   |  0:00:18s\n",
            "epoch 301| loss: 0.09439 |  0:00:18s\n",
            "epoch 302| loss: 0.09323 |  0:00:18s\n",
            "epoch 303| loss: 0.0952  |  0:00:18s\n",
            "epoch 304| loss: 0.09208 |  0:00:18s\n",
            "epoch 305| loss: 0.09883 |  0:00:18s\n",
            "epoch 306| loss: 0.08583 |  0:00:18s\n",
            "epoch 307| loss: 0.10369 |  0:00:19s\n",
            "epoch 308| loss: 0.0914  |  0:00:19s\n",
            "epoch 309| loss: 0.08756 |  0:00:19s\n",
            "epoch 310| loss: 0.08941 |  0:00:19s\n",
            "epoch 311| loss: 0.08865 |  0:00:19s\n",
            "epoch 312| loss: 0.08873 |  0:00:19s\n",
            "epoch 313| loss: 0.08665 |  0:00:19s\n",
            "epoch 314| loss: 0.08601 |  0:00:19s\n",
            "epoch 315| loss: 0.0949  |  0:00:19s\n",
            "epoch 316| loss: 0.09098 |  0:00:19s\n",
            "epoch 317| loss: 0.08601 |  0:00:19s\n",
            "epoch 318| loss: 0.09256 |  0:00:20s\n",
            "epoch 319| loss: 0.09562 |  0:00:20s\n",
            "epoch 320| loss: 0.09711 |  0:00:20s\n",
            "epoch 321| loss: 0.08492 |  0:00:20s\n",
            "epoch 322| loss: 0.09279 |  0:00:20s\n",
            "epoch 323| loss: 0.09002 |  0:00:20s\n",
            "epoch 324| loss: 0.09049 |  0:00:20s\n",
            "epoch 325| loss: 0.08958 |  0:00:20s\n",
            "epoch 326| loss: 0.09433 |  0:00:20s\n",
            "epoch 327| loss: 0.09129 |  0:00:20s\n",
            "epoch 328| loss: 0.09409 |  0:00:21s\n",
            "epoch 329| loss: 0.09219 |  0:00:21s\n",
            "epoch 330| loss: 0.09609 |  0:00:21s\n",
            "epoch 331| loss: 0.09349 |  0:00:21s\n",
            "epoch 332| loss: 0.09112 |  0:00:21s\n",
            "epoch 333| loss: 0.09847 |  0:00:21s\n",
            "epoch 334| loss: 0.0964  |  0:00:21s\n",
            "epoch 335| loss: 0.0886  |  0:00:21s\n",
            "epoch 336| loss: 0.09691 |  0:00:21s\n",
            "epoch 337| loss: 0.08361 |  0:00:21s\n",
            "epoch 338| loss: 0.08878 |  0:00:22s\n",
            "epoch 339| loss: 0.08739 |  0:00:22s\n",
            "epoch 340| loss: 0.09655 |  0:00:22s\n",
            "epoch 341| loss: 0.09474 |  0:00:22s\n",
            "epoch 342| loss: 0.0963  |  0:00:22s\n",
            "epoch 343| loss: 0.09146 |  0:00:22s\n",
            "epoch 344| loss: 0.08905 |  0:00:22s\n",
            "epoch 345| loss: 0.09059 |  0:00:22s\n",
            "epoch 346| loss: 0.08687 |  0:00:22s\n",
            "epoch 347| loss: 0.09196 |  0:00:22s\n",
            "epoch 348| loss: 0.08889 |  0:00:22s\n",
            "epoch 349| loss: 0.08641 |  0:00:23s\n",
            "epoch 350| loss: 0.08549 |  0:00:23s\n",
            "epoch 351| loss: 0.08925 |  0:00:23s\n",
            "epoch 352| loss: 0.09331 |  0:00:23s\n",
            "epoch 353| loss: 0.09394 |  0:00:23s\n",
            "epoch 354| loss: 0.08803 |  0:00:23s\n",
            "epoch 355| loss: 0.08679 |  0:00:23s\n",
            "epoch 356| loss: 0.08667 |  0:00:24s\n",
            "epoch 357| loss: 0.08891 |  0:00:24s\n",
            "epoch 358| loss: 0.08853 |  0:00:24s\n",
            "epoch 359| loss: 0.09271 |  0:00:24s\n",
            "epoch 360| loss: 0.08605 |  0:00:24s\n",
            "epoch 361| loss: 0.08653 |  0:00:24s\n",
            "epoch 362| loss: 0.09568 |  0:00:24s\n",
            "epoch 363| loss: 0.09754 |  0:00:24s\n",
            "epoch 364| loss: 0.08746 |  0:00:24s\n",
            "epoch 365| loss: 0.08358 |  0:00:24s\n",
            "epoch 366| loss: 0.09766 |  0:00:24s\n",
            "epoch 367| loss: 0.08936 |  0:00:24s\n",
            "epoch 368| loss: 0.08712 |  0:00:25s\n",
            "epoch 369| loss: 0.09094 |  0:00:25s\n",
            "epoch 370| loss: 0.08524 |  0:00:25s\n",
            "epoch 371| loss: 0.09127 |  0:00:25s\n",
            "epoch 372| loss: 0.09328 |  0:00:25s\n",
            "epoch 373| loss: 0.09194 |  0:00:25s\n",
            "epoch 374| loss: 0.09457 |  0:00:25s\n",
            "epoch 375| loss: 0.08691 |  0:00:25s\n",
            "epoch 376| loss: 0.0914  |  0:00:25s\n",
            "epoch 377| loss: 0.08881 |  0:00:25s\n",
            "epoch 378| loss: 0.08956 |  0:00:25s\n",
            "epoch 379| loss: 0.08864 |  0:00:25s\n",
            "epoch 380| loss: 0.09714 |  0:00:25s\n",
            "epoch 381| loss: 0.08763 |  0:00:25s\n",
            "epoch 382| loss: 0.08242 |  0:00:26s\n",
            "epoch 383| loss: 0.09168 |  0:00:26s\n",
            "epoch 384| loss: 0.0892  |  0:00:26s\n",
            "epoch 385| loss: 0.08698 |  0:00:26s\n",
            "epoch 386| loss: 0.08846 |  0:00:26s\n",
            "epoch 387| loss: 0.08812 |  0:00:26s\n",
            "epoch 388| loss: 0.08573 |  0:00:26s\n",
            "epoch 389| loss: 0.08645 |  0:00:26s\n",
            "epoch 390| loss: 0.08815 |  0:00:26s\n",
            "epoch 391| loss: 0.09031 |  0:00:26s\n",
            "epoch 392| loss: 0.08747 |  0:00:26s\n",
            "epoch 393| loss: 0.0912  |  0:00:26s\n",
            "epoch 394| loss: 0.0906  |  0:00:27s\n",
            "epoch 395| loss: 0.0889  |  0:00:27s\n",
            "epoch 396| loss: 0.08846 |  0:00:27s\n",
            "epoch 397| loss: 0.08695 |  0:00:27s\n",
            "epoch 398| loss: 0.08975 |  0:00:27s\n",
            "epoch 399| loss: 0.08833 |  0:00:27s\n",
            "epoch 400| loss: 0.09419 |  0:00:27s\n",
            "epoch 401| loss: 0.09621 |  0:00:27s\n",
            "epoch 402| loss: 0.08499 |  0:00:27s\n",
            "epoch 403| loss: 0.08987 |  0:00:27s\n",
            "epoch 404| loss: 0.08568 |  0:00:27s\n",
            "epoch 405| loss: 0.08571 |  0:00:28s\n",
            "epoch 406| loss: 0.08334 |  0:00:28s\n",
            "epoch 407| loss: 0.08282 |  0:00:28s\n",
            "epoch 408| loss: 0.08766 |  0:00:28s\n",
            "epoch 409| loss: 0.08439 |  0:00:28s\n",
            "epoch 410| loss: 0.08698 |  0:00:28s\n",
            "epoch 411| loss: 0.08909 |  0:00:28s\n",
            "epoch 412| loss: 0.0859  |  0:00:28s\n",
            "epoch 413| loss: 0.09341 |  0:00:28s\n",
            "epoch 414| loss: 0.08857 |  0:00:28s\n",
            "epoch 415| loss: 0.09346 |  0:00:28s\n",
            "epoch 416| loss: 0.10912 |  0:00:28s\n",
            "epoch 417| loss: 0.08661 |  0:00:29s\n",
            "epoch 418| loss: 0.0845  |  0:00:29s\n",
            "epoch 419| loss: 0.10222 |  0:00:29s\n",
            "epoch 420| loss: 0.09435 |  0:00:29s\n",
            "epoch 421| loss: 0.0937  |  0:00:29s\n",
            "epoch 422| loss: 0.09529 |  0:00:29s\n",
            "epoch 423| loss: 0.09475 |  0:00:29s\n",
            "epoch 424| loss: 0.09435 |  0:00:29s\n",
            "epoch 425| loss: 0.09463 |  0:00:29s\n",
            "epoch 426| loss: 0.09452 |  0:00:29s\n",
            "epoch 427| loss: 0.08862 |  0:00:29s\n",
            "epoch 428| loss: 0.08236 |  0:00:29s\n",
            "epoch 429| loss: 0.09497 |  0:00:30s\n",
            "epoch 430| loss: 0.0847  |  0:00:30s\n",
            "epoch 431| loss: 0.09125 |  0:00:30s\n",
            "epoch 432| loss: 0.08743 |  0:00:30s\n",
            "epoch 433| loss: 0.09011 |  0:00:30s\n",
            "epoch 434| loss: 0.08879 |  0:00:30s\n",
            "epoch 435| loss: 0.09363 |  0:00:30s\n",
            "epoch 436| loss: 0.09333 |  0:00:30s\n",
            "epoch 437| loss: 0.09029 |  0:00:30s\n",
            "epoch 438| loss: 0.08835 |  0:00:30s\n",
            "epoch 439| loss: 0.09218 |  0:00:31s\n",
            "epoch 440| loss: 0.09016 |  0:00:31s\n",
            "epoch 441| loss: 0.08771 |  0:00:31s\n",
            "epoch 442| loss: 0.0865  |  0:00:31s\n",
            "epoch 443| loss: 0.09218 |  0:00:31s\n",
            "epoch 444| loss: 0.08402 |  0:00:31s\n",
            "epoch 445| loss: 0.09545 |  0:00:31s\n",
            "epoch 446| loss: 0.09471 |  0:00:31s\n",
            "epoch 447| loss: 0.09688 |  0:00:31s\n",
            "epoch 448| loss: 0.08989 |  0:00:31s\n",
            "epoch 449| loss: 0.08131 |  0:00:31s\n",
            "epoch 450| loss: 0.08514 |  0:00:31s\n",
            "epoch 451| loss: 0.08526 |  0:00:31s\n",
            "epoch 452| loss: 0.08513 |  0:00:32s\n",
            "epoch 453| loss: 0.08813 |  0:00:32s\n",
            "epoch 454| loss: 0.08975 |  0:00:32s\n",
            "epoch 455| loss: 0.09013 |  0:00:32s\n",
            "epoch 456| loss: 0.09054 |  0:00:32s\n",
            "epoch 457| loss: 0.08461 |  0:00:32s\n",
            "epoch 458| loss: 0.10371 |  0:00:32s\n",
            "epoch 459| loss: 0.08665 |  0:00:32s\n",
            "epoch 460| loss: 0.09721 |  0:00:32s\n",
            "epoch 461| loss: 0.09058 |  0:00:32s\n",
            "epoch 462| loss: 0.09015 |  0:00:32s\n",
            "epoch 463| loss: 0.0885  |  0:00:32s\n",
            "epoch 464| loss: 0.08931 |  0:00:32s\n",
            "epoch 465| loss: 0.09061 |  0:00:33s\n",
            "epoch 466| loss: 0.09344 |  0:00:33s\n",
            "epoch 467| loss: 0.08776 |  0:00:33s\n",
            "epoch 468| loss: 0.09038 |  0:00:33s\n",
            "epoch 469| loss: 0.08499 |  0:00:33s\n",
            "epoch 470| loss: 0.08989 |  0:00:33s\n",
            "epoch 471| loss: 0.08482 |  0:00:33s\n",
            "epoch 472| loss: 0.08305 |  0:00:33s\n",
            "epoch 473| loss: 0.09031 |  0:00:34s\n",
            "epoch 474| loss: 0.0857  |  0:00:34s\n",
            "epoch 475| loss: 0.08748 |  0:00:34s\n",
            "epoch 476| loss: 0.09197 |  0:00:34s\n",
            "epoch 477| loss: 0.08839 |  0:00:34s\n",
            "epoch 478| loss: 0.096   |  0:00:34s\n",
            "epoch 479| loss: 0.08754 |  0:00:34s\n",
            "epoch 480| loss: 0.10045 |  0:00:34s\n",
            "epoch 481| loss: 0.09168 |  0:00:35s\n",
            "epoch 482| loss: 0.08665 |  0:00:35s\n",
            "epoch 483| loss: 0.09174 |  0:00:35s\n",
            "epoch 484| loss: 0.08605 |  0:00:35s\n",
            "epoch 485| loss: 0.08857 |  0:00:35s\n",
            "epoch 486| loss: 0.08743 |  0:00:35s\n",
            "epoch 487| loss: 0.08779 |  0:00:35s\n",
            "epoch 488| loss: 0.09452 |  0:00:35s\n",
            "epoch 489| loss: 0.08699 |  0:00:35s\n",
            "epoch 490| loss: 0.09024 |  0:00:35s\n",
            "epoch 491| loss: 0.09127 |  0:00:35s\n",
            "epoch 492| loss: 0.09169 |  0:00:36s\n",
            "epoch 493| loss: 0.08826 |  0:00:36s\n",
            "epoch 494| loss: 0.0877  |  0:00:36s\n",
            "epoch 495| loss: 0.08663 |  0:00:36s\n",
            "epoch 496| loss: 0.0867  |  0:00:36s\n",
            "epoch 497| loss: 0.08419 |  0:00:36s\n",
            "epoch 498| loss: 0.08442 |  0:00:36s\n",
            "epoch 499| loss: 0.08124 |  0:00:36s\n"
          ]
        }
      ]
    },
    {
      "cell_type": "code",
      "source": [
        "prediction=classifier.predict(X_test)\n",
        "print('Accuracy = ', metrics.accuracy_score(y_test, prediction)*100)"
      ],
      "metadata": {
        "id": "m8zVzYPoInVU",
        "outputId": "186cf245-47eb-4550-9dfc-d9fffaf2c1fc",
        "colab": {
          "base_uri": "https://localhost:8080/"
        }
      },
      "execution_count": 22,
      "outputs": [
        {
          "output_type": "stream",
          "name": "stdout",
          "text": [
            "Accuracy =  83.47107438016529\n"
          ]
        }
      ]
    }
  ]
}
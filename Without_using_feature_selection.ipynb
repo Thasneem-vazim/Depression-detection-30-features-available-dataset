{
  "cells": [
    {
      "cell_type": "markdown",
      "metadata": {
        "id": "view-in-github",
        "colab_type": "text"
      },
      "source": [
        "<a href=\"https://colab.research.google.com/github/Thasneem-vazim/Depression-detection-30-features-available-dataset/blob/main/Without_using_feature_selection.ipynb\" target=\"_parent\"><img src=\"https://colab.research.google.com/assets/colab-badge.svg\" alt=\"Open In Colab\"/></a>"
      ]
    },
    {
      "cell_type": "code",
      "execution_count": null,
      "metadata": {
        "id": "KhcUHlUl8Uyx"
      },
      "outputs": [],
      "source": [
        "import numpy as np\n",
        "import pandas as pd\n",
        "import matplotlib.pyplot as plt\n",
        "import seaborn as sns\n",
        "from sklearn.model_selection import train_test_split\n",
        "from sklearn.linear_model import LogisticRegression\n",
        "from sklearn import metrics\n",
        "import warnings\n",
        "warnings.filterwarnings('ignore')\n",
        "from sklearn.tree import DecisionTreeClassifier\n",
        "pd.set_option('display.max_rows', None)"
      ]
    },
    {
      "cell_type": "code",
      "execution_count": null,
      "metadata": {
        "id": "DgvammKN8myn"
      },
      "outputs": [],
      "source": [
        "depressionDataset = pd.read_csv(\"/content/depressionlevelFinalShortName2.csv\")\n",
        "X = depressionDataset[['AGERNG','GENDER','EDU','PROF','MARSTS','RESDPL','LIVWTH','ENVSAT','POSSAT','FINSTR','DEBT','PHYEX','SMOKE','DRINK','ILLNESS','PREMED','EATDIS','AVGSLP','INSOM','TSSN','WRKPRE','ANXI','DEPRI','ABUSED','CHEAT','THREAT','SUICIDE','INFER','CONFLICT','LOST']]\n",
        "y=depressionDataset[['DEPRESSED']]"
      ]
    },
    {
      "cell_type": "code",
      "source": [
        "X_train,X_test,y_train,y_test=train_test_split(X,y,test_size=0.2,random_state=0)"
      ],
      "metadata": {
        "id": "Ci0hXN49nrHy"
      },
      "execution_count": null,
      "outputs": []
    },
    {
      "cell_type": "code",
      "source": [
        "from sklearn.preprocessing import LabelEncoder\n",
        "### label encode the categorical values and convert them to numbers\n",
        "le = LabelEncoder()\n",
        "le.fit(X_train['AGERNG'].astype(str))\n",
        "X_train['AGERNG'] = le.transform(X_train['AGERNG'].astype(str))\n",
        "X_test['AGERNG'] = le.transform(X_test['AGERNG'].astype(str))\n",
        "\n",
        "le = LabelEncoder()\n",
        "le.fit(X_train['GENDER'].astype(str))\n",
        "X_train['GENDER'] = le.transform(X_train['GENDER'].astype(str))\n",
        "X_test['GENDER'] = le.transform(X_test['GENDER'].astype(str))\n",
        "\n",
        "le = LabelEncoder()\n",
        "le.fit(X_train['EDU'].astype(str))\n",
        "X_train['EDU'] = le.transform(X_train['EDU'].astype(str))\n",
        "X_test['EDU'] = le.transform(X_test['EDU'].astype(str))\n",
        "\n",
        "\n",
        "le = LabelEncoder()\n",
        "le.fit(X_train['PROF'].astype(str))\n",
        "X_train['PROF'] = le.transform(X_train['PROF'].astype(str))\n",
        "X_test['PROF'] = le.transform(X_test['PROF'].astype(str))\n",
        "\n",
        "\n",
        "le = LabelEncoder()\n",
        "le.fit(X_train['MARSTS'].astype(str))\n",
        "X_train['MARSTS'] = le.transform(X_train['MARSTS'].astype(str))\n",
        "X_test['MARSTS'] = le.transform(X_test['MARSTS'].astype(str))\n",
        "\n",
        "\n",
        "le = LabelEncoder()\n",
        "le.fit(X_train['RESDPL'].astype(str))\n",
        "X_train['RESDPL'] = le.transform(X_train['RESDPL'].astype(str))\n",
        "X_test['RESDPL'] = le.transform(X_test['RESDPL'].astype(str))\n",
        "\n",
        "\n",
        "le = LabelEncoder()\n",
        "le.fit(X_train['LIVWTH'].astype(str))\n",
        "X_train['LIVWTH'] = le.transform(X_train['LIVWTH'].astype(str))\n",
        "X_test['LIVWTH'] = le.transform(X_test['LIVWTH'].astype(str))\n",
        "\n",
        "\n",
        "le = LabelEncoder()\n",
        "le.fit(X_train['ENVSAT'].astype(str))\n",
        "X_train['ENVSAT'] = le.transform(X_train['ENVSAT'].astype(str))\n",
        "X_test['ENVSAT'] = le.transform(X_test['ENVSAT'].astype(str))\n",
        "\n",
        "\n",
        "le = LabelEncoder()\n",
        "le.fit(X_train['POSSAT'].astype(str))\n",
        "X_train['POSSAT'] = le.transform(X_train['POSSAT'].astype(str))\n",
        "X_test['POSSAT'] = le.transform(X_test['POSSAT'].astype(str))\n",
        "\n",
        "\n",
        "le = LabelEncoder()\n",
        "le.fit(X_train['FINSTR'].astype(str))\n",
        "X_train['FINSTR'] = le.transform(X_train['FINSTR'].astype(str))\n",
        "X_test['FINSTR'] = le.transform(X_test['FINSTR'].astype(str))\n",
        "\n",
        "\n",
        "le = LabelEncoder()\n",
        "le.fit(X_train['DEBT'].astype(str))\n",
        "X_train['DEBT'] = le.transform(X_train['DEBT'].astype(str))\n",
        "X_test['DEBT'] = le.transform(X_test['DEBT'].astype(str))\n",
        "\n",
        "\n",
        "le = LabelEncoder()\n",
        "le.fit(X_train['PHYEX'].astype(str))\n",
        "X_train['PHYEX'] = le.transform(X_train['PHYEX'].astype(str))\n",
        "X_test['PHYEX'] = le.transform(X_test['PHYEX'].astype(str))\n",
        "\n",
        "\n",
        "\n",
        "le = LabelEncoder()\n",
        "le.fit(X_train['SMOKE'].astype(str))\n",
        "X_train['SMOKE'] = le.transform(X_train['SMOKE'].astype(str))\n",
        "X_test['SMOKE'] = le.transform(X_test['SMOKE'].astype(str))\n",
        "\n",
        "\n",
        "le = LabelEncoder()\n",
        "le.fit(X_train['DRINK'].astype(str))\n",
        "X_train['DRINK'] = le.transform(X_train['DRINK'].astype(str))\n",
        "X_test['DRINK'] = le.transform(X_test['DRINK'].astype(str))\n",
        "\n",
        "\n",
        "le = LabelEncoder()\n",
        "le.fit(X_train['ILLNESS'].astype(str))\n",
        "X_train['ILLNESS'] = le.transform(X_train['ILLNESS'].astype(str))\n",
        "X_test['ILLNESS'] = le.transform(X_test['ILLNESS'].astype(str))\n",
        "\n",
        "\n",
        "\n",
        "le = LabelEncoder()\n",
        "le.fit(X_train['PREMED'].astype(str))\n",
        "X_train['PREMED'] = le.transform(X_train['PREMED'].astype(str))\n",
        "X_test['PREMED'] = le.transform(X_test['PREMED'].astype(str))\n",
        "\n",
        "\n",
        "le = LabelEncoder()\n",
        "le.fit(X_train['EATDIS'].astype(str))\n",
        "X_train['EATDIS'] = le.transform(X_train['EATDIS'].astype(str))\n",
        "X_test['EATDIS'] = le.transform(X_test['EATDIS'].astype(str))\n",
        "\n",
        "\n",
        "le = LabelEncoder()\n",
        "le.fit(X_train['AVGSLP'].astype(str))\n",
        "X_train['AVGSLP'] = le.transform(X_train['AVGSLP'].astype(str))\n",
        "X_test['AVGSLP'] = le.transform(X_test['AVGSLP'].astype(str))\n",
        "\n",
        "\n",
        "\n",
        "le = LabelEncoder()\n",
        "le.fit(X_train['INSOM'].astype(str))\n",
        "X_train['INSOM'] = le.transform(X_train['INSOM'].astype(str))\n",
        "X_test['INSOM'] = le.transform(X_test['INSOM'].astype(str))\n",
        "\n",
        "\n",
        "\n",
        "le = LabelEncoder()\n",
        "le.fit(X_train['TSSN'].astype(str))\n",
        "X_train['TSSN'] = le.transform(X_train['TSSN'].astype(str))\n",
        "X_test['TSSN'] = le.transform(X_test['TSSN'].astype(str))\n",
        "\n",
        "\n",
        "\n",
        "le = LabelEncoder()\n",
        "le.fit(X_train['WRKPRE'].astype(str))\n",
        "X_train['WRKPRE'] = le.transform(X_train['WRKPRE'].astype(str))\n",
        "X_test['WRKPRE'] = le.transform(X_test['WRKPRE'].astype(str))\n",
        "\n",
        "\n",
        "\n",
        "le = LabelEncoder()\n",
        "le.fit(X_train['ANXI'].astype(str))\n",
        "X_train['ANXI'] = le.transform(X_train['ANXI'].astype(str))\n",
        "X_test['ANXI'] = le.transform(X_test['ANXI'].astype(str))\n",
        "\n",
        "\n",
        "\n",
        "le = LabelEncoder()\n",
        "le.fit(X_train['DEPRI'].astype(str))\n",
        "X_train['DEPRI'] = le.transform(X_train['DEPRI'].astype(str))\n",
        "X_test['DEPRI'] = le.transform(X_test['DEPRI'].astype(str))\n",
        "\n",
        "\n",
        "\n",
        "le = LabelEncoder()\n",
        "le.fit(X_train['ABUSED'].astype(str))\n",
        "X_train['ABUSED'] = le.transform(X_train['ABUSED'].astype(str))\n",
        "X_test['ABUSED'] = le.transform(X_test['ABUSED'].astype(str))\n",
        "\n",
        "\n",
        "\n",
        "le = LabelEncoder()\n",
        "le.fit(X_train['CHEAT'].astype(str))\n",
        "X_train['CHEAT'] = le.transform(X_train['CHEAT'].astype(str))\n",
        "X_test['CHEAT'] = le.transform(X_test['CHEAT'].astype(str))\n",
        "\n",
        "\n",
        "le = LabelEncoder()\n",
        "le.fit(X_train['THREAT'].astype(str))\n",
        "X_train['THREAT'] = le.transform(X_train['THREAT'].astype(str))\n",
        "X_test['THREAT'] = le.transform(X_test['THREAT'].astype(str))\n",
        "\n",
        "\n",
        "le = LabelEncoder()\n",
        "le.fit(X_train['SUICIDE'].astype(str))\n",
        "X_train['SUICIDE'] = le.transform(X_train['SUICIDE'].astype(str))\n",
        "X_test['SUICIDE'] = le.transform(X_test['SUICIDE'].astype(str))\n",
        "\n",
        "le = LabelEncoder()\n",
        "le.fit(X_train['INFER'].astype(str))\n",
        "X_train['INFER'] = le.transform(X_train['INFER'].astype(str))\n",
        "X_test['INFER'] = le.transform(X_test['INFER'].astype(str))\n",
        "\n",
        "\n",
        "le = LabelEncoder()\n",
        "le.fit(X_train['CONFLICT'].astype(str))\n",
        "X_train['CONFLICT'] = le.transform(X_train['CONFLICT'].astype(str))\n",
        "X_test['CONFLICT'] = le.transform(X_test['CONFLICT'].astype(str))\n",
        "\n",
        "\n",
        "le = LabelEncoder()\n",
        "le.fit(X_train['LOST'].astype(str))\n",
        "X_train['LOST'] = le.transform(X_train['LOST'].astype(str))\n",
        "X_test['LOST'] = le.transform(X_test['LOST'].astype(str))"
      ],
      "metadata": {
        "id": "LqPWn3eIgLZh"
      },
      "execution_count": null,
      "outputs": []
    },
    {
      "cell_type": "code",
      "execution_count": null,
      "metadata": {
        "id": "QhHCGlGd9VN-"
      },
      "outputs": [],
      "source": [
        "from imblearn.over_sampling import SMOTE\n",
        "smote=SMOTE('minority',random_state=0)\n",
        "X_trainSelectedFeatureAfterSMOTE,y_train=smote.fit_resample(X_train, y_train)\n"
      ]
    },
    {
      "cell_type": "code",
      "execution_count": null,
      "metadata": {
        "id": "CfcepgRFDpOY",
        "colab": {
          "base_uri": "https://localhost:8080/"
        },
        "outputId": "8d643861-3078-476f-f797-1858b00fca1e"
      },
      "outputs": [
        {
          "output_type": "stream",
          "name": "stdout",
          "text": [
            "(646, 1)\n"
          ]
        }
      ],
      "source": [
        "print(y_train.shape)"
      ]
    },
    {
      "cell_type": "code",
      "execution_count": null,
      "metadata": {
        "id": "8X9K49Qu-xDn",
        "colab": {
          "base_uri": "https://localhost:8080/"
        },
        "outputId": "2cbb44ee-cc94-4b27-f539-c35367d1302f"
      },
      "outputs": [
        {
          "output_type": "execute_result",
          "data": {
            "text/plain": [
              "KNeighborsClassifier()"
            ]
          },
          "metadata": {},
          "execution_count": 7
        }
      ],
      "source": [
        "from sklearn.neighbors import KNeighborsClassifier\n",
        "\n",
        "KNNClassification = KNeighborsClassifier()\n",
        "KNNClassification.fit(X_trainSelectedFeatureAfterSMOTE,y_train)"
      ]
    },
    {
      "cell_type": "code",
      "execution_count": null,
      "metadata": {
        "id": "1QyyS4vf_GNR",
        "colab": {
          "base_uri": "https://localhost:8080/",
          "height": 282
        },
        "outputId": "ef6de9fb-c036-4a9b-e64d-970a80fe3116"
      },
      "outputs": [
        {
          "output_type": "execute_result",
          "data": {
            "text/plain": [
              "<matplotlib.axes._subplots.AxesSubplot at 0x7f34577554d0>"
            ]
          },
          "metadata": {},
          "execution_count": 8
        },
        {
          "output_type": "display_data",
          "data": {
            "text/plain": [
              "<Figure size 432x288 with 2 Axes>"
            ],
            "image/png": "[encoded data removed]"
          },
          "metadata": {
            "needs_background": "light"
          }
        }
      ],
      "source": [
        "from sklearn.metrics import classification_report,confusion_matrix\n",
        "y1_predict_test=KNNClassification.predict(X_test)\n",
        "cm1=confusion_matrix(y_test,y1_predict_test)\n",
        "sns.heatmap(cm1,annot=True)"
      ]
    },
    {
      "cell_type": "code",
      "execution_count": null,
      "metadata": {
        "id": "ks7PkYB5_jNx",
        "colab": {
          "base_uri": "https://localhost:8080/"
        },
        "outputId": "e192c28e-bb08-47dd-b252-9ee71e6992f2"
      },
      "outputs": [
        {
          "output_type": "stream",
          "name": "stdout",
          "text": [
            "              precision    recall  f1-score   support\n",
            "\n",
            "           0       0.54      0.83      0.66        47\n",
            "           1       0.84      0.55      0.67        74\n",
            "\n",
            "    accuracy                           0.66       121\n",
            "   macro avg       0.69      0.69      0.66       121\n",
            "weighted avg       0.72      0.66      0.66       121\n",
            "\n"
          ]
        }
      ],
      "source": [
        "print(classification_report(y_test,y1_predict_test))"
      ]
    },
    {
      "cell_type": "code",
      "execution_count": null,
      "metadata": {
        "id": "tbxsKO0o_l9E",
        "colab": {
          "base_uri": "https://localhost:8080/",
          "height": 296
        },
        "outputId": "c4ba34a2-ee32-4841-dd8c-9a563fe34165"
      },
      "outputs": [
        {
          "output_type": "stream",
          "name": "stdout",
          "text": [
            "AUC:  0.7880966072455434\n"
          ]
        },
        {
          "output_type": "display_data",
          "data": {
            "text/plain": [
              "<Figure size 432x288 with 1 Axes>"
            ],
            "image/png": "[encoded data removed]"
          },
          "metadata": {
            "needs_background": "light"
          }
        }
      ],
      "source": [
        "y_predictionKNN_proba=KNNClassification.predict_proba(X_test)[:,1]\n",
        "AUCKNN=metrics.roc_auc_score(y_test,y_predictionKNN_proba)\n",
        "print(\"AUC: \",AUCKNN)\n",
        "fprKNN, tprKNN, thresholds = metrics.roc_curve(y_test,y_predictionKNN_proba)\n",
        "\n",
        "plt.plot(fprKNN,tprKNN,label=\"( area = \"+str(AUCKNN)+\" )\")\n",
        "plt.xlabel('False Positive Rate')\n",
        "plt.ylabel('True Positive Rate')\n",
        "plt.legend(loc=4)\n",
        "plt.show()"
      ]
    },
    {
      "cell_type": "code",
      "execution_count": null,
      "metadata": {
        "id": "iIuDIoltxFAx",
        "colab": {
          "base_uri": "https://localhost:8080/"
        },
        "outputId": "69673101-8e61-4533-b2ca-6076117a03b2"
      },
      "outputs": [
        {
          "output_type": "stream",
          "name": "stdout",
          "text": [
            "Accuracy =  66.11570247933885\n"
          ]
        }
      ],
      "source": [
        "prediction=KNNClassification.predict(X_test)\n",
        "print('Accuracy = ', metrics.accuracy_score(y_test, prediction)*100)"
      ]
    },
    {
      "cell_type": "code",
      "execution_count": null,
      "metadata": {
        "id": "V2NBRjDM_ynM",
        "colab": {
          "base_uri": "https://localhost:8080/"
        },
        "outputId": "596f3c6f-303b-4be7-cbf0-f09ff09bea19"
      },
      "outputs": [
        {
          "output_type": "execute_result",
          "data": {
            "text/plain": [
              "AdaBoostClassifier(n_estimators=100)"
            ]
          },
          "metadata": {},
          "execution_count": 12
        }
      ],
      "source": [
        "from sklearn.ensemble import AdaBoostClassifier\n",
        "ADABoostClassification=AdaBoostClassifier(n_estimators=100)\n",
        "ADABoostClassification.fit(X_trainSelectedFeatureAfterSMOTE,y_train)\n"
      ]
    },
    {
      "cell_type": "code",
      "execution_count": null,
      "metadata": {
        "id": "DOv_JbYyADE5",
        "colab": {
          "base_uri": "https://localhost:8080/",
          "height": 282
        },
        "outputId": "09972986-125e-4fde-aef1-c3e5688df708"
      },
      "outputs": [
        {
          "output_type": "execute_result",
          "data": {
            "text/plain": [
              "<matplotlib.axes._subplots.AxesSubplot at 0x7f34542ff2d0>"
            ]
          },
          "metadata": {},
          "execution_count": 13
        },
        {
          "output_type": "display_data",
          "data": {
            "text/plain": [
              "<Figure size 432x288 with 2 Axes>"
            ],
            "image/png": "[encoded data removed]"
          },
          "metadata": {
            "needs_background": "light"
          }
        }
      ],
      "source": [
        "y1_predict_test=ADABoostClassification.predict(X_test)\n",
        "cm1=confusion_matrix(y_test,y1_predict_test)\n",
        "sns.heatmap(cm1,annot=True)"
      ]
    },
    {
      "cell_type": "code",
      "execution_count": null,
      "metadata": {
        "id": "6uJaxF1uAXhf",
        "colab": {
          "base_uri": "https://localhost:8080/"
        },
        "outputId": "72f01dcc-f2f8-4be7-b170-b220aae8b240"
      },
      "outputs": [
        {
          "output_type": "stream",
          "name": "stdout",
          "text": [
            "              precision    recall  f1-score   support\n",
            "\n",
            "           0       0.86      0.81      0.84        47\n",
            "           1       0.88      0.92      0.90        74\n",
            "\n",
            "    accuracy                           0.88       121\n",
            "   macro avg       0.87      0.86      0.87       121\n",
            "weighted avg       0.88      0.88      0.88       121\n",
            "\n"
          ]
        }
      ],
      "source": [
        "print(classification_report(y_test,y1_predict_test))"
      ]
    },
    {
      "cell_type": "code",
      "execution_count": null,
      "metadata": {
        "id": "WCoI6VwTAb0a",
        "colab": {
          "base_uri": "https://localhost:8080/",
          "height": 296
        },
        "outputId": "6f880e81-53e1-4a16-b2b6-782351dea3b1"
      },
      "outputs": [
        {
          "output_type": "stream",
          "name": "stdout",
          "text": [
            "AUC:  0.9353076480736056\n"
          ]
        },
        {
          "output_type": "display_data",
          "data": {
            "text/plain": [
              "<Figure size 432x288 with 1 Axes>"
            ],
            "image/png": "[encoded data removed]"
          },
          "metadata": {
            "needs_background": "light"
          }
        }
      ],
      "source": [
        "y_predictionKNN_proba=ADABoostClassification.predict_proba(X_test)[:,1]\n",
        "AUCKNN=metrics.roc_auc_score(y_test,y_predictionKNN_proba)\n",
        "print(\"AUC: \",AUCKNN)\n",
        "fprAda, tprAda, thresholds = metrics.roc_curve(y_test,y_predictionKNN_proba)\n",
        "\n",
        "plt.plot(fprKNN,tprKNN,label=\"( area = \"+str(AUCKNN)+\" )\")\n",
        "plt.xlabel('False Positive Rate')\n",
        "plt.ylabel('True Positive Rate')\n",
        "plt.legend(loc=4)\n",
        "plt.show()"
      ]
    },
    {
      "cell_type": "code",
      "execution_count": null,
      "metadata": {
        "id": "SxctEUP6xU2v",
        "colab": {
          "base_uri": "https://localhost:8080/"
        },
        "outputId": "889697f1-8605-4dc9-8e59-d19228dfb499"
      },
      "outputs": [
        {
          "output_type": "stream",
          "name": "stdout",
          "text": [
            "Accuracy =  87.60330578512396\n"
          ]
        }
      ],
      "source": [
        "prediction=ADABoostClassification.predict(X_test)\n",
        "print('Accuracy = ', metrics.accuracy_score(y_test, prediction)*100)"
      ]
    },
    {
      "cell_type": "code",
      "execution_count": null,
      "metadata": {
        "id": "psvzTwPcAoGP",
        "colab": {
          "base_uri": "https://localhost:8080/"
        },
        "outputId": "d7b7b690-7379-4403-eeea-457b3e828f68"
      },
      "outputs": [
        {
          "output_type": "execute_result",
          "data": {
            "text/plain": [
              "GradientBoostingClassifier(random_state=0)"
            ]
          },
          "metadata": {},
          "execution_count": 17
        }
      ],
      "source": [
        "from sklearn.ensemble import GradientBoostingClassifier\n",
        "GradeintBoostClassification = GradientBoostingClassifier(loss='deviance',random_state=0)\n",
        "GradeintBoostClassification.fit(X_trainSelectedFeatureAfterSMOTE,y_train)"
      ]
    },
    {
      "cell_type": "code",
      "execution_count": null,
      "metadata": {
        "id": "9D9tqan8AtXc",
        "colab": {
          "base_uri": "https://localhost:8080/",
          "height": 282
        },
        "outputId": "e89c5946-06cc-4a7f-d72f-a0a311a8cf21"
      },
      "outputs": [
        {
          "output_type": "execute_result",
          "data": {
            "text/plain": [
              "<matplotlib.axes._subplots.AxesSubplot at 0x7f34541c4a50>"
            ]
          },
          "metadata": {},
          "execution_count": 18
        },
        {
          "output_type": "display_data",
          "data": {
            "text/plain": [
              "<Figure size 432x288 with 2 Axes>"
            ],
            "image/png": "[encoded data removed]"
          },
          "metadata": {
            "needs_background": "light"
          }
        }
      ],
      "source": [
        "y1_predict_test=GradeintBoostClassification.predict(X_test)\n",
        "cm1=confusion_matrix(y_test,y1_predict_test)\n",
        "sns.heatmap(cm1,annot=True)"
      ]
    },
    {
      "cell_type": "code",
      "execution_count": null,
      "metadata": {
        "id": "sX1INMGRA9yk",
        "colab": {
          "base_uri": "https://localhost:8080/"
        },
        "outputId": "f49db615-c6db-4ec4-d074-73459151a407"
      },
      "outputs": [
        {
          "output_type": "stream",
          "name": "stdout",
          "text": [
            "              precision    recall  f1-score   support\n",
            "\n",
            "           0       0.83      0.81      0.82        47\n",
            "           1       0.88      0.89      0.89        74\n",
            "\n",
            "    accuracy                           0.86       121\n",
            "   macro avg       0.85      0.85      0.85       121\n",
            "weighted avg       0.86      0.86      0.86       121\n",
            "\n"
          ]
        }
      ],
      "source": [
        "print(classification_report(y_test,y1_predict_test))"
      ]
    },
    {
      "cell_type": "code",
      "execution_count": null,
      "metadata": {
        "id": "VeUiTcqkBB3D",
        "colab": {
          "base_uri": "https://localhost:8080/",
          "height": 296
        },
        "outputId": "58f72ba8-ebe0-4680-b56d-27e46f48321e"
      },
      "outputs": [
        {
          "output_type": "stream",
          "name": "stdout",
          "text": [
            "AUC:  0.9473835537665326\n"
          ]
        },
        {
          "output_type": "display_data",
          "data": {
            "text/plain": [
              "<Figure size 432x288 with 1 Axes>"
            ],
            "image/png": "[encoded data removed]"
          },
          "metadata": {
            "needs_background": "light"
          }
        }
      ],
      "source": [
        "y_predictionKNN_proba=GradeintBoostClassification.predict_proba(X_test)[:,1]\n",
        "AUCKNN=metrics.roc_auc_score(y_test,y_predictionKNN_proba)\n",
        "print(\"AUC: \",AUCKNN)\n",
        "fprGradientBoost, tprGradientBoost, thresholds = metrics.roc_curve(y_test,y_predictionKNN_proba)\n",
        "\n",
        "plt.plot(fprKNN,tprKNN,label=\"( area = \"+str(AUCKNN)+\" )\")\n",
        "plt.xlabel('False Positive Rate')\n",
        "plt.ylabel('True Positive Rate')\n",
        "plt.legend(loc=4)\n",
        "plt.show()"
      ]
    },
    {
      "cell_type": "code",
      "execution_count": null,
      "metadata": {
        "id": "FDM0spK0xp20",
        "colab": {
          "base_uri": "https://localhost:8080/"
        },
        "outputId": "735f0cdd-b1e4-49fc-c611-0c4b346910c6"
      },
      "outputs": [
        {
          "output_type": "stream",
          "name": "stdout",
          "text": [
            "Accuracy =  85.9504132231405\n"
          ]
        }
      ],
      "source": [
        "prediction=GradeintBoostClassification.predict(X_test)\n",
        "print('Accuracy = ', metrics.accuracy_score(y_test, prediction)*100)"
      ]
    },
    {
      "cell_type": "code",
      "execution_count": null,
      "metadata": {
        "id": "5rlZEUNUX2ea",
        "colab": {
          "base_uri": "https://localhost:8080/"
        },
        "outputId": "966c52d1-e742-41eb-b216-58bec347d736"
      },
      "outputs": [
        {
          "output_type": "execute_result",
          "data": {
            "text/plain": [
              "XGBClassifier()"
            ]
          },
          "metadata": {},
          "execution_count": 22
        }
      ],
      "source": [
        "import xgboost as xgb\n",
        "XGBoostClassification=xgb.XGBClassifier()\n",
        "XGBoostClassification.fit(X_trainSelectedFeatureAfterSMOTE,y_train)"
      ]
    },
    {
      "cell_type": "code",
      "execution_count": null,
      "metadata": {
        "id": "0NQbBRVEYhHi",
        "colab": {
          "base_uri": "https://localhost:8080/",
          "height": 282
        },
        "outputId": "bf41dcdf-d596-4a3a-bd61-64c15064e069"
      },
      "outputs": [
        {
          "output_type": "execute_result",
          "data": {
            "text/plain": [
              "<matplotlib.axes._subplots.AxesSubplot at 0x7f34542c1750>"
            ]
          },
          "metadata": {},
          "execution_count": 23
        },
        {
          "output_type": "display_data",
          "data": {
            "text/plain": [
              "<Figure size 432x288 with 2 Axes>"
            ],
            "image/png": "[encoded data removed]"
          },
          "metadata": {
            "needs_background": "light"
          }
        }
      ],
      "source": [
        "y_predictionXgBoost=XGBoostClassification.predict(X_test)\n",
        "cm1=confusion_matrix(y_test,y1_predict_test)\n",
        "sns.heatmap(cm1,annot=True)"
      ]
    },
    {
      "cell_type": "code",
      "execution_count": null,
      "metadata": {
        "id": "W5VxVWQcYtyT",
        "colab": {
          "base_uri": "https://localhost:8080/"
        },
        "outputId": "53b038b4-f2ba-4de0-8460-6b9aa887dd79"
      },
      "outputs": [
        {
          "output_type": "stream",
          "name": "stdout",
          "text": [
            "              precision    recall  f1-score   support\n",
            "\n",
            "           0       0.85      0.83      0.84        47\n",
            "           1       0.89      0.91      0.90        74\n",
            "\n",
            "    accuracy                           0.88       121\n",
            "   macro avg       0.87      0.87      0.87       121\n",
            "weighted avg       0.88      0.88      0.88       121\n",
            "\n"
          ]
        }
      ],
      "source": [
        "print(classification_report(y_test,y_predictionXgBoost))"
      ]
    },
    {
      "cell_type": "code",
      "execution_count": null,
      "metadata": {
        "id": "9MgCCytWYuah",
        "colab": {
          "base_uri": "https://localhost:8080/",
          "height": 296
        },
        "outputId": "4b6852d6-f430-4831-d0f9-29c62ce0c4ab"
      },
      "outputs": [
        {
          "output_type": "stream",
          "name": "stdout",
          "text": [
            "AUC:  0.9548591144335825\n"
          ]
        },
        {
          "output_type": "display_data",
          "data": {
            "text/plain": [
              "<Figure size 432x288 with 1 Axes>"
            ],
            "image/png": "[encoded data removed]"
          },
          "metadata": {
            "needs_background": "light"
          }
        }
      ],
      "source": [
        "y_predictionKNN_proba=XGBoostClassification.predict_proba(X_test)[:,1]\n",
        "AUCKNN=metrics.roc_auc_score(y_test,y_predictionKNN_proba)\n",
        "print(\"AUC: \",AUCKNN)\n",
        "fprXgB, tprXgB, thresholds = metrics.roc_curve(y_test,y_predictionKNN_proba)\n",
        "plt.plot(fprKNN,tprKNN,label=\"( area = \"+str(AUCKNN)+\" )\")\n",
        "plt.xlabel('False Positive Rate')\n",
        "plt.ylabel('True Positive Rate')\n",
        "plt.legend(loc=4)\n",
        "plt.show()\n",
        "\n"
      ]
    },
    {
      "cell_type": "code",
      "execution_count": null,
      "metadata": {
        "id": "bu6VgYcvx5eL",
        "colab": {
          "base_uri": "https://localhost:8080/"
        },
        "outputId": "283347e0-f9ba-4dc7-83ba-a6154dbd9912"
      },
      "outputs": [
        {
          "output_type": "stream",
          "name": "stdout",
          "text": [
            "Accuracy =  87.60330578512396\n"
          ]
        }
      ],
      "source": [
        "prediction=XGBoostClassification.predict(X_test)\n",
        "print('Accuracy = ', metrics.accuracy_score(y_test, prediction)*100)"
      ]
    },
    {
      "cell_type": "code",
      "execution_count": null,
      "metadata": {
        "id": "FcAgHt8lafPh",
        "colab": {
          "base_uri": "https://localhost:8080/"
        },
        "outputId": "afbdba4b-6fff-4024-f393-be07c680e960"
      },
      "outputs": [
        {
          "output_type": "execute_result",
          "data": {
            "text/plain": [
              "BaggingClassifier(base_estimator=MLPClassifier(random_state=0),\n",
              "                  n_estimators=300, random_state=0)"
            ]
          },
          "metadata": {},
          "execution_count": 27
        }
      ],
      "source": [
        "from sklearn.ensemble import BaggingClassifier\n",
        "from sklearn.neural_network import MLPClassifier\n",
        "base_cls = MLPClassifier(random_state=0)\n",
        "bagClassificationMLP = BaggingClassifier(base_estimator=base_cls, n_estimators=300, random_state=0)\n",
        "bagClassificationMLP.fit(X_trainSelectedFeatureAfterSMOTE, y_train)\n"
      ]
    },
    {
      "cell_type": "code",
      "execution_count": null,
      "metadata": {
        "id": "jyhedGd5dGEh",
        "colab": {
          "base_uri": "https://localhost:8080/",
          "height": 282
        },
        "outputId": "b3118193-3b5a-4ad4-e419-ec60d981ff01"
      },
      "outputs": [
        {
          "output_type": "execute_result",
          "data": {
            "text/plain": [
              "<matplotlib.axes._subplots.AxesSubplot at 0x7f344b25ebd0>"
            ]
          },
          "metadata": {},
          "execution_count": 28
        },
        {
          "output_type": "display_data",
          "data": {
            "text/plain": [
              "<Figure size 432x288 with 2 Axes>"
            ],
            "image/png": "[encoded data removed]"
          },
          "metadata": {
            "needs_background": "light"
          }
        }
      ],
      "source": [
        "y_predictionBagMLP = bagClassificationMLP.predict(X_test)\n",
        "cm1=confusion_matrix(y_test,y_predictionBagMLP)\n",
        "sns.heatmap(cm1,annot=True)"
      ]
    },
    {
      "cell_type": "code",
      "execution_count": null,
      "metadata": {
        "id": "1lKDc5tbdiq2",
        "colab": {
          "base_uri": "https://localhost:8080/"
        },
        "outputId": "f38bdb39-0b95-4e1e-ce0a-a591adb39dae"
      },
      "outputs": [
        {
          "output_type": "stream",
          "name": "stdout",
          "text": [
            "              precision    recall  f1-score   support\n",
            "\n",
            "           0       0.89      0.83      0.86        47\n",
            "           1       0.90      0.93      0.91        74\n",
            "\n",
            "    accuracy                           0.89       121\n",
            "   macro avg       0.89      0.88      0.89       121\n",
            "weighted avg       0.89      0.89      0.89       121\n",
            "\n"
          ]
        }
      ],
      "source": [
        "print(classification_report(y_test,y_predictionBagMLP))"
      ]
    },
    {
      "cell_type": "code",
      "execution_count": null,
      "metadata": {
        "id": "t15Ndk3hd1Iw",
        "colab": {
          "base_uri": "https://localhost:8080/",
          "height": 296
        },
        "outputId": "360b465c-c8af-45b0-db7d-1f67742873b1"
      },
      "outputs": [
        {
          "output_type": "stream",
          "name": "stdout",
          "text": [
            "AUC:  0.9585968947671075\n"
          ]
        },
        {
          "output_type": "display_data",
          "data": {
            "text/plain": [
              "<Figure size 432x288 with 1 Axes>"
            ],
            "image/png": "[encoded data removed]"
          },
          "metadata": {
            "needs_background": "light"
          }
        }
      ],
      "source": [
        "y_predictionKNN_proba=bagClassificationMLP.predict_proba(X_test)[:,1]\n",
        "AUCKNN=metrics.roc_auc_score(y_test,y_predictionKNN_proba)\n",
        "print(\"AUC: \",AUCKNN)\n",
        "fprBagMLP, tprBagMLP, thresholds = metrics.roc_curve(y_test,y_predictionKNN_proba)\n",
        "plt.plot(fprKNN,tprKNN,label=\"( area = \"+str(AUCKNN)+\" )\")\n",
        "plt.xlabel('False Positive Rate')\n",
        "plt.ylabel('True Positive Rate')\n",
        "plt.legend(loc=4)\n",
        "plt.show()\n"
      ]
    },
    {
      "cell_type": "code",
      "execution_count": null,
      "metadata": {
        "id": "UYEhU8D5yBzt",
        "colab": {
          "base_uri": "https://localhost:8080/"
        },
        "outputId": "d9cb086b-a294-4e26-dd7f-11b1e3670faa"
      },
      "outputs": [
        {
          "output_type": "stream",
          "name": "stdout",
          "text": [
            "Accuracy =  89.25619834710744\n"
          ]
        }
      ],
      "source": [
        "prediction=bagClassificationMLP.predict(X_test)\n",
        "print('Accuracy = ', metrics.accuracy_score(y_test, prediction)*100)"
      ]
    },
    {
      "cell_type": "code",
      "source": [
        "import keras\n",
        "#3. Defining the model - Input and Hidden Layer Construction \n",
        "model_dnn = keras.models.Sequential()\n",
        "model_dnn.add(keras.layers.Dense(units = 12, activation = 'relu',input_shape= X_train.shape[1:]))\n",
        "model_dnn.add(keras.layers.Dense(units = 10, activation = 'relu')) \n",
        "model_dnn.add(keras.layers.Dense(units = 8, activation = 'relu')) \n",
        "model_dnn.add(keras.layers.Dense(units = 6, activation = 'relu')) \n",
        "model_dnn.add(keras.layers.Dense(units = 6, activation = 'relu')) \n",
        "model_dnn.add(keras.layers.Dense(units = 3, activation = 'sigmoid')) \n",
        "model_dnn.summary()\n",
        "\n",
        "#4 Compile the model and fit the data into model \n",
        "model_dnn.compile(loss= 'sparse_categorical_crossentropy',optimizer = 'adam' , metrics = ['accuracy'])\n",
        "model_dnn.fit(x=X_train , y =y_train , validation_split = 0.1 , epochs =5, batch_size = 16)\n",
        "\n",
        "#5 Evaluating the model \n",
        "testloss,testaccuracy=model_dnn.evaluate(X_test,y_test) \n",
        "print(\"Test loss observed on iris dataset = \",testloss) \n",
        "print(\"Test accuracy observed on iris dataset = \",testaccuracy)\n"
      ],
      "metadata": {
        "id": "xrbBa1UMPo84",
        "outputId": "7cffedb0-100f-4e44-c781-b4ea8d7e2e4c",
        "colab": {
          "base_uri": "https://localhost:8080/"
        }
      },
      "execution_count": null,
      "outputs": [
        {
          "output_type": "stream",
          "name": "stdout",
          "text": [
            "Model: \"sequential\"\n",
            "_________________________________________________________________\n",
            " Layer (type)                Output Shape              Param #   \n",
            "=================================================================\n",
            " dense (Dense)               (None, 12)                372       \n",
            "                                                                 \n",
            " dense_1 (Dense)             (None, 10)                130       \n",
            "                                                                 \n",
            " dense_2 (Dense)             (None, 8)                 88        \n",
            "                                                                 \n",
            " dense_3 (Dense)             (None, 6)                 54        \n",
            "                                                                 \n",
            " dense_4 (Dense)             (None, 6)                 42        \n",
            "                                                                 \n",
            " dense_5 (Dense)             (None, 3)                 21        \n",
            "                                                                 \n",
            "=================================================================\n",
            "Total params: 707\n",
            "Trainable params: 707\n",
            "Non-trainable params: 0\n",
            "_________________________________________________________________\n",
            "Epoch 1/5\n",
            "28/28 [==============================] - 1s 10ms/step - loss: 1.0563 - accuracy: 0.6774 - val_loss: 1.0286 - val_accuracy: 0.5714\n",
            "Epoch 2/5\n",
            "28/28 [==============================] - 0s 3ms/step - loss: 0.9323 - accuracy: 0.6797 - val_loss: 0.9192 - val_accuracy: 0.5714\n",
            "Epoch 3/5\n",
            "28/28 [==============================] - 0s 3ms/step - loss: 0.7902 - accuracy: 0.6797 - val_loss: 0.8484 - val_accuracy: 0.5714\n",
            "Epoch 4/5\n",
            "28/28 [==============================] - 0s 3ms/step - loss: 0.7062 - accuracy: 0.6797 - val_loss: 0.7976 - val_accuracy: 0.5714\n",
            "Epoch 5/5\n",
            "28/28 [==============================] - 0s 4ms/step - loss: 0.6587 - accuracy: 0.6797 - val_loss: 0.7496 - val_accuracy: 0.5714\n",
            "4/4 [==============================] - 0s 4ms/step - loss: 0.6974 - accuracy: 0.6116\n",
            "Test loss observed on iris dataset =  0.6974122524261475\n",
            "Test accuracy observed on iris dataset =  0.6115702390670776\n"
          ]
        }
      ]
    },
    {
      "cell_type": "code",
      "source": [
        ""
      ],
      "metadata": {
        "id": "iiiCiRcRCtp9"
      },
      "execution_count": null,
      "outputs": []
    },
    {
      "cell_type": "code",
      "source": [
        "# Import Library\n",
        "import numpy as np \n",
        "import matplotlib.pyplot as plt \n",
        "\n",
        "# Define Data\n",
        "data3 = ['W/O feature extr.','SelectKBest','MRMR','Boruta']\n",
        "xvals = [66.11,83.47,80.99,82.81]\n",
        "yvals = [87.60,92.5,92.56,92.56]\n",
        "zvals = [85.95,84.29,90.08,90.08]\n",
        "avals = [87.60,88.42,89.25,92.56]\n",
        "bvals = [89.25,85.15,89.25,85.12]\n",
        "\n",
        "\n",
        "\n",
        "x_axis = np.arange(len(data3))\n",
        "\n",
        "# Multi bar Chart\n",
        "plt.bar(x_axis +0.1, xvals, width=0.07, label = 'KNN')\n",
        "plt.bar(x_axis +0.1*2, yvals, width=0.07, label = 'Adaboost')\n",
        "plt.bar(x_axis +0.1*3, zvals, width=0.07, label = 'GradientBoost')\n",
        "plt.bar(x_axis +0.1*4, avals, width=0.07, label = 'XG Boost')\n",
        "plt.bar(x_axis +0.1*5, bvals, width=0.07, label = 'Bagging classifier')\n",
        "\n",
        "# Xticks\n",
        "plt.xticks(x_axis,data3)\n",
        "plt.ylabel(\"Accuracy (%)\")\n",
        "plt.xlabel(\"Experiments on classification\")\n",
        "plt.title(\"Comparitive analysis based on accuracy\")\n",
        "plt.legend()\n",
        "plt.show()"
      ],
      "metadata": {
        "id": "JEjbDpksIdh-",
        "outputId": "2add377c-da74-4b1a-ec8b-ac6902764847",
        "colab": {
          "base_uri": "https://localhost:8080/",
          "height": 295
        }
      },
      "execution_count": 3,
      "outputs": [
        {
          "output_type": "display_data",
          "data": {
            "text/plain": [
              "<Figure size 432x288 with 1 Axes>"
            ],
            "image/png": "[encoded data removed]"
          },
          "metadata": {
            "needs_background": "light"
          }
        }
      ]
    },
    {
      "cell_type": "code",
      "source": [
        ""
      ],
      "metadata": {
        "id": "c5lh189somo2"
      },
      "execution_count": null,
      "outputs": []
    },
    {
      "cell_type": "code",
      "source": [
        "plt.figure()\n",
        "\n",
        "#plt.plot(fprRBF,tprRBF,label=\"SVM (AUC: 0.95)\")\n",
        "plt.plot(fprKNN,tprKNN,label=\"KNN (AUC: 0.93)\")\n",
        "#plt.plot(fprDT,tprDT,label=\"DT (AUC: 0.86)\")\n",
        "#plt.plot(fprRF,tprRF,label=\"RF (AUC: 0.90)\")\n",
        "plt.plot(fprAda,tprAda,label=\"AdaBoost (AUC: 0.96)\")\n",
        "#plt.plot(fprMLP,tprMLP,label=\"MLP (AUC: 0.96)\")\n",
        "plt.plot(fprGradientBoost,tprGradientBoost,label=\"GB (AUC: 0.96)\")\n",
        "plt.plot(fprXgB,tprXgB,label=\"XGBoost (AUC: 0.94)\")\n",
        "plt.plot(fprBagMLP,tprBagMLP,label=\"Bagging (AUC: 0.96)\")\n",
        "\n",
        "\n",
        "plt.plot([0, 1], [0, 1], color='navy', linestyle='--')\n",
        "plt.xlabel('False Positive Rate')\n",
        "plt.ylabel('True Positive Rate')\n",
        "plt.legend(loc=4)\n",
        "plt.savefig('Without feature selection-SMOTE-ROCNew.png',dpi=1000)\n",
        "plt.show()"
      ],
      "metadata": {
        "colab": {
          "base_uri": "https://localhost:8080/",
          "height": 279
        },
        "id": "DER13QCXVfbX",
        "outputId": "d1a43e4c-a5ca-4a30-8312-07ff299547dd"
      },
      "execution_count": null,
      "outputs": [
        {
          "output_type": "display_data",
          "data": {
            "text/plain": [
              "<Figure size 432x288 with 1 Axes>"
            ],
            "image/png": "[encoded data removed]"
          },
          "metadata": {
            "needs_background": "light"
          }
        }
      ]
    },
    {
      "cell_type": "code",
      "source": [
        "# Import Library\n",
        "import numpy as np \n",
        "import matplotlib.pyplot as plt \n",
        "\n",
        "# Define Data\n",
        "data3 = ['W/O feature extr.','SelectKBest','MRMR','Boruta']\n",
        "xvals = [70.6,65.33,74.66,72]\n",
        "yvals = [74.6,72,72,74.66]\n",
        "zvals = [78.33,69.33,80,73.33]\n",
        "avals = [77.33,72,73.33,72]\n",
        "bvals = [78,73.33,76,76.6]\n",
        "\n",
        "\n",
        "\n",
        "x_axis = np.arange(len(data3))\n",
        "\n",
        "# Multi bar Chart\n",
        "plt.bar(x_axis +0.1, xvals, width=0.07, label = 'KNN')\n",
        "plt.bar(x_axis +0.1*2, yvals, width=0.07, label = 'Adaboost')\n",
        "plt.bar(x_axis +0.1*3, zvals, width=0.07, label = 'GradientBoost')\n",
        "plt.bar(x_axis +0.1*4, avals, width=0.07, label = 'XG Boost')\n",
        "plt.bar(x_axis +0.1*5, bvals, width=0.07, label = 'Bagging classifier')\n",
        "\n",
        "# Xticks\n",
        "plt.xticks(x_axis,data3)\n",
        "plt.ylabel(\"Accuracy (%)\")\n",
        "plt.xlabel(\"Experiments on classification\")\n",
        "plt.title(\"Comparitive analysis based on accuracy\")\n",
        "plt.legend()\n",
        "plt.show()\n"
      ],
      "metadata": {
        "id": "0lhpDcqe4NcE",
        "outputId": "f788be90-9abc-47ca-98fd-287a680ee42f",
        "colab": {
          "base_uri": "https://localhost:8080/",
          "height": 295
        }
      },
      "execution_count": 2,
      "outputs": [
        {
          "output_type": "display_data",
          "data": {
            "text/plain": [
              "<Figure size 432x288 with 1 Axes>"
            ],
            "image/png": "[encoded data removed]"
          },
          "metadata": {
            "needs_background": "light"
          }
        }
      ]
    }
  ],
  "metadata": {
    "colab": {
      "name": "Without using feature selection.ipynb",
      "provenance": [],
      "collapsed_sections": [],
      "authorship_tag": "ABX9TyMBcHD3B+b1wM9Xbvw23ZEj",
      "include_colab_link": true
    },
    "kernelspec": {
      "display_name": "Python 3",
      "name": "python3"
    },
    "language_info": {
      "name": "python"
    }
  },
  "nbformat": 4,
  "nbformat_minor": 0
}